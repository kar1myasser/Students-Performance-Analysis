{
 "cells": [
  {
   "cell_type": "markdown",
   "id": "5a2e1635",
   "metadata": {},
   "source": [
    "# 03 - Unsupervised Learning (K-Means Clustering)\n",
    "\n",
    "This notebook covers:\n",
    "- Feature selection for clustering\n",
    "- K-means clustering implementation\n",
    "- Optimal k selection (elbow method, silhouette analysis)\n",
    "- Cluster profiling and interpretation\n",
    "- Student segmentation analysis"
   ]
  }
 ],
 "metadata": {
  "language_info": {
   "name": "python"
  }
 },
 "nbformat": 4,
 "nbformat_minor": 5
}
