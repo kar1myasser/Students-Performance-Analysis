{
 "cells": [
  {
   "cell_type": "markdown",
   "id": "f6c1fce5",
   "metadata": {},
   "source": [
    "# 02 - Exploratory Data Analysis and Visualization\n",
    "\n",
    "This notebook includes:\n",
    "- Descriptive statistics\n",
    "- Correlation analysis\n",
    "- Group comparisons\n",
    "- Hypothesis testing\n",
    "- Data visualization (histograms, boxplots, scatter plots, heatmaps)"
   ]
  }
 ],
 "metadata": {
  "language_info": {
   "name": "python"
  }
 },
 "nbformat": 4,
 "nbformat_minor": 5
}
