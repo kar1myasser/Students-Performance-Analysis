{
 "cells": [
  {
   "cell_type": "markdown",
   "id": "74c8ec15",
   "metadata": {},
   "source": [
    "# 01 - Data Preparation and Cleaning\n",
    "\n",
    "This notebook handles:\n",
    "- Data loading and validation\n",
    "- Schema checking and data types\n",
    "- Missing values assessment and handling\n",
    "- Outlier detection and treatment\n",
    "- Data Quality Report generation"
   ]
  },
  {
   "cell_type": "code",
   "execution_count": 2,
   "id": "d4dd3899",
   "metadata": {},
   "outputs": [],
   "source": [
    "import pandas as pd\n",
    "import numpy as np\n",
    "import matplotlib.pyplot as plt\n",
    "import seaborn as sns"
   ]
  },
  {
   "cell_type": "code",
   "execution_count": 3,
   "id": "6d186201",
   "metadata": {},
   "outputs": [
    {
     "name": "stdout",
     "output_type": "stream",
     "text": [
      "(649, 33)\n"
     ]
    },
    {
     "data": {
      "application/vnd.microsoft.datawrangler.viewer.v0+json": {
       "columns": [
        {
         "name": "index",
         "rawType": "int64",
         "type": "integer"
        },
        {
         "name": "school",
         "rawType": "object",
         "type": "string"
        },
        {
         "name": "sex",
         "rawType": "object",
         "type": "string"
        },
        {
         "name": "age",
         "rawType": "int64",
         "type": "integer"
        },
        {
         "name": "address",
         "rawType": "object",
         "type": "string"
        },
        {
         "name": "famsize",
         "rawType": "object",
         "type": "string"
        },
        {
         "name": "Pstatus",
         "rawType": "object",
         "type": "string"
        },
        {
         "name": "Medu",
         "rawType": "int64",
         "type": "integer"
        },
        {
         "name": "Fedu",
         "rawType": "int64",
         "type": "integer"
        },
        {
         "name": "Mjob",
         "rawType": "object",
         "type": "string"
        },
        {
         "name": "Fjob",
         "rawType": "object",
         "type": "string"
        },
        {
         "name": "reason",
         "rawType": "object",
         "type": "string"
        },
        {
         "name": "guardian",
         "rawType": "object",
         "type": "string"
        },
        {
         "name": "traveltime",
         "rawType": "int64",
         "type": "integer"
        },
        {
         "name": "studytime",
         "rawType": "int64",
         "type": "integer"
        },
        {
         "name": "failures",
         "rawType": "int64",
         "type": "integer"
        },
        {
         "name": "schoolsup",
         "rawType": "object",
         "type": "string"
        },
        {
         "name": "famsup",
         "rawType": "object",
         "type": "string"
        },
        {
         "name": "paid",
         "rawType": "object",
         "type": "string"
        },
        {
         "name": "activities",
         "rawType": "object",
         "type": "string"
        },
        {
         "name": "nursery",
         "rawType": "object",
         "type": "string"
        },
        {
         "name": "higher",
         "rawType": "object",
         "type": "string"
        },
        {
         "name": "internet",
         "rawType": "object",
         "type": "string"
        },
        {
         "name": "romantic",
         "rawType": "object",
         "type": "string"
        },
        {
         "name": "famrel",
         "rawType": "int64",
         "type": "integer"
        },
        {
         "name": "freetime",
         "rawType": "int64",
         "type": "integer"
        },
        {
         "name": "goout",
         "rawType": "int64",
         "type": "integer"
        },
        {
         "name": "Dalc",
         "rawType": "int64",
         "type": "integer"
        },
        {
         "name": "Walc",
         "rawType": "int64",
         "type": "integer"
        },
        {
         "name": "health",
         "rawType": "int64",
         "type": "integer"
        },
        {
         "name": "absences",
         "rawType": "int64",
         "type": "integer"
        },
        {
         "name": "G1",
         "rawType": "int64",
         "type": "integer"
        },
        {
         "name": "G2",
         "rawType": "int64",
         "type": "integer"
        },
        {
         "name": "G3",
         "rawType": "int64",
         "type": "integer"
        }
       ],
       "ref": "67675563-9dbd-4cb8-aab7-4a3d189dc132",
       "rows": [
        [
         "0",
         "GP",
         "F",
         "18",
         "U",
         "GT3",
         "A",
         "4",
         "4",
         "at_home",
         "teacher",
         "course",
         "mother",
         "2",
         "2",
         "0",
         "yes",
         "no",
         "no",
         "no",
         "yes",
         "yes",
         "no",
         "no",
         "4",
         "3",
         "4",
         "1",
         "1",
         "3",
         "4",
         "0",
         "11",
         "11"
        ],
        [
         "1",
         "GP",
         "F",
         "17",
         "U",
         "GT3",
         "T",
         "1",
         "1",
         "at_home",
         "other",
         "course",
         "father",
         "1",
         "2",
         "0",
         "no",
         "yes",
         "no",
         "no",
         "no",
         "yes",
         "yes",
         "no",
         "5",
         "3",
         "3",
         "1",
         "1",
         "3",
         "2",
         "9",
         "11",
         "11"
        ],
        [
         "2",
         "GP",
         "F",
         "15",
         "U",
         "LE3",
         "T",
         "1",
         "1",
         "at_home",
         "other",
         "other",
         "mother",
         "1",
         "2",
         "0",
         "yes",
         "no",
         "no",
         "no",
         "yes",
         "yes",
         "yes",
         "no",
         "4",
         "3",
         "2",
         "2",
         "3",
         "3",
         "6",
         "12",
         "13",
         "12"
        ],
        [
         "3",
         "GP",
         "F",
         "15",
         "U",
         "GT3",
         "T",
         "4",
         "2",
         "health",
         "services",
         "home",
         "mother",
         "1",
         "3",
         "0",
         "no",
         "yes",
         "no",
         "yes",
         "yes",
         "yes",
         "yes",
         "yes",
         "3",
         "2",
         "2",
         "1",
         "1",
         "5",
         "0",
         "14",
         "14",
         "14"
        ],
        [
         "4",
         "GP",
         "F",
         "16",
         "U",
         "GT3",
         "T",
         "3",
         "3",
         "other",
         "other",
         "home",
         "father",
         "1",
         "2",
         "0",
         "no",
         "yes",
         "no",
         "no",
         "yes",
         "yes",
         "no",
         "no",
         "4",
         "3",
         "2",
         "1",
         "2",
         "5",
         "0",
         "11",
         "13",
         "13"
        ]
       ],
       "shape": {
        "columns": 33,
        "rows": 5
       }
      },
      "text/html": [
       "<div>\n",
       "<style scoped>\n",
       "    .dataframe tbody tr th:only-of-type {\n",
       "        vertical-align: middle;\n",
       "    }\n",
       "\n",
       "    .dataframe tbody tr th {\n",
       "        vertical-align: top;\n",
       "    }\n",
       "\n",
       "    .dataframe thead th {\n",
       "        text-align: right;\n",
       "    }\n",
       "</style>\n",
       "<table border=\"1\" class=\"dataframe\">\n",
       "  <thead>\n",
       "    <tr style=\"text-align: right;\">\n",
       "      <th></th>\n",
       "      <th>school</th>\n",
       "      <th>sex</th>\n",
       "      <th>age</th>\n",
       "      <th>address</th>\n",
       "      <th>famsize</th>\n",
       "      <th>Pstatus</th>\n",
       "      <th>Medu</th>\n",
       "      <th>Fedu</th>\n",
       "      <th>Mjob</th>\n",
       "      <th>Fjob</th>\n",
       "      <th>...</th>\n",
       "      <th>famrel</th>\n",
       "      <th>freetime</th>\n",
       "      <th>goout</th>\n",
       "      <th>Dalc</th>\n",
       "      <th>Walc</th>\n",
       "      <th>health</th>\n",
       "      <th>absences</th>\n",
       "      <th>G1</th>\n",
       "      <th>G2</th>\n",
       "      <th>G3</th>\n",
       "    </tr>\n",
       "  </thead>\n",
       "  <tbody>\n",
       "    <tr>\n",
       "      <th>0</th>\n",
       "      <td>GP</td>\n",
       "      <td>F</td>\n",
       "      <td>18</td>\n",
       "      <td>U</td>\n",
       "      <td>GT3</td>\n",
       "      <td>A</td>\n",
       "      <td>4</td>\n",
       "      <td>4</td>\n",
       "      <td>at_home</td>\n",
       "      <td>teacher</td>\n",
       "      <td>...</td>\n",
       "      <td>4</td>\n",
       "      <td>3</td>\n",
       "      <td>4</td>\n",
       "      <td>1</td>\n",
       "      <td>1</td>\n",
       "      <td>3</td>\n",
       "      <td>4</td>\n",
       "      <td>0</td>\n",
       "      <td>11</td>\n",
       "      <td>11</td>\n",
       "    </tr>\n",
       "    <tr>\n",
       "      <th>1</th>\n",
       "      <td>GP</td>\n",
       "      <td>F</td>\n",
       "      <td>17</td>\n",
       "      <td>U</td>\n",
       "      <td>GT3</td>\n",
       "      <td>T</td>\n",
       "      <td>1</td>\n",
       "      <td>1</td>\n",
       "      <td>at_home</td>\n",
       "      <td>other</td>\n",
       "      <td>...</td>\n",
       "      <td>5</td>\n",
       "      <td>3</td>\n",
       "      <td>3</td>\n",
       "      <td>1</td>\n",
       "      <td>1</td>\n",
       "      <td>3</td>\n",
       "      <td>2</td>\n",
       "      <td>9</td>\n",
       "      <td>11</td>\n",
       "      <td>11</td>\n",
       "    </tr>\n",
       "    <tr>\n",
       "      <th>2</th>\n",
       "      <td>GP</td>\n",
       "      <td>F</td>\n",
       "      <td>15</td>\n",
       "      <td>U</td>\n",
       "      <td>LE3</td>\n",
       "      <td>T</td>\n",
       "      <td>1</td>\n",
       "      <td>1</td>\n",
       "      <td>at_home</td>\n",
       "      <td>other</td>\n",
       "      <td>...</td>\n",
       "      <td>4</td>\n",
       "      <td>3</td>\n",
       "      <td>2</td>\n",
       "      <td>2</td>\n",
       "      <td>3</td>\n",
       "      <td>3</td>\n",
       "      <td>6</td>\n",
       "      <td>12</td>\n",
       "      <td>13</td>\n",
       "      <td>12</td>\n",
       "    </tr>\n",
       "    <tr>\n",
       "      <th>3</th>\n",
       "      <td>GP</td>\n",
       "      <td>F</td>\n",
       "      <td>15</td>\n",
       "      <td>U</td>\n",
       "      <td>GT3</td>\n",
       "      <td>T</td>\n",
       "      <td>4</td>\n",
       "      <td>2</td>\n",
       "      <td>health</td>\n",
       "      <td>services</td>\n",
       "      <td>...</td>\n",
       "      <td>3</td>\n",
       "      <td>2</td>\n",
       "      <td>2</td>\n",
       "      <td>1</td>\n",
       "      <td>1</td>\n",
       "      <td>5</td>\n",
       "      <td>0</td>\n",
       "      <td>14</td>\n",
       "      <td>14</td>\n",
       "      <td>14</td>\n",
       "    </tr>\n",
       "    <tr>\n",
       "      <th>4</th>\n",
       "      <td>GP</td>\n",
       "      <td>F</td>\n",
       "      <td>16</td>\n",
       "      <td>U</td>\n",
       "      <td>GT3</td>\n",
       "      <td>T</td>\n",
       "      <td>3</td>\n",
       "      <td>3</td>\n",
       "      <td>other</td>\n",
       "      <td>other</td>\n",
       "      <td>...</td>\n",
       "      <td>4</td>\n",
       "      <td>3</td>\n",
       "      <td>2</td>\n",
       "      <td>1</td>\n",
       "      <td>2</td>\n",
       "      <td>5</td>\n",
       "      <td>0</td>\n",
       "      <td>11</td>\n",
       "      <td>13</td>\n",
       "      <td>13</td>\n",
       "    </tr>\n",
       "  </tbody>\n",
       "</table>\n",
       "<p>5 rows × 33 columns</p>\n",
       "</div>"
      ],
      "text/plain": [
       "  school sex  age address famsize Pstatus  Medu  Fedu     Mjob      Fjob  ...  \\\n",
       "0     GP   F   18       U     GT3       A     4     4  at_home   teacher  ...   \n",
       "1     GP   F   17       U     GT3       T     1     1  at_home     other  ...   \n",
       "2     GP   F   15       U     LE3       T     1     1  at_home     other  ...   \n",
       "3     GP   F   15       U     GT3       T     4     2   health  services  ...   \n",
       "4     GP   F   16       U     GT3       T     3     3    other     other  ...   \n",
       "\n",
       "  famrel freetime  goout  Dalc  Walc health absences  G1  G2  G3  \n",
       "0      4        3      4     1     1      3        4   0  11  11  \n",
       "1      5        3      3     1     1      3        2   9  11  11  \n",
       "2      4        3      2     2     3      3        6  12  13  12  \n",
       "3      3        2      2     1     1      5        0  14  14  14  \n",
       "4      4        3      2     1     2      5        0  11  13  13  \n",
       "\n",
       "[5 rows x 33 columns]"
      ]
     },
     "execution_count": 3,
     "metadata": {},
     "output_type": "execute_result"
    }
   ],
   "source": [
    "df = pd.read_csv(r\"../data/raw/student_performance.csv\")\n",
    "print(df.shape)\n",
    "df.head()"
   ]
  },
  {
   "cell_type": "code",
   "execution_count": 4,
   "id": "2b05bdcd",
   "metadata": {},
   "outputs": [
    {
     "name": "stdout",
     "output_type": "stream",
     "text": [
      "<class 'pandas.core.frame.DataFrame'>\n",
      "RangeIndex: 649 entries, 0 to 648\n",
      "Data columns (total 33 columns):\n",
      " #   Column      Non-Null Count  Dtype \n",
      "---  ------      --------------  ----- \n",
      " 0   school      649 non-null    object\n",
      " 1   sex         649 non-null    object\n",
      " 2   age         649 non-null    int64 \n",
      " 3   address     649 non-null    object\n",
      " 4   famsize     649 non-null    object\n",
      " 5   Pstatus     649 non-null    object\n",
      " 6   Medu        649 non-null    int64 \n",
      " 7   Fedu        649 non-null    int64 \n",
      " 8   Mjob        649 non-null    object\n",
      " 9   Fjob        649 non-null    object\n",
      " 10  reason      649 non-null    object\n",
      " 11  guardian    649 non-null    object\n",
      " 12  traveltime  649 non-null    int64 \n",
      " 13  studytime   649 non-null    int64 \n",
      " 14  failures    649 non-null    int64 \n",
      " 15  schoolsup   649 non-null    object\n",
      " 16  famsup      649 non-null    object\n",
      " 17  paid        649 non-null    object\n",
      " 18  activities  649 non-null    object\n",
      " 19  nursery     649 non-null    object\n",
      " 20  higher      649 non-null    object\n",
      " 21  internet    649 non-null    object\n",
      " 22  romantic    649 non-null    object\n",
      " 23  famrel      649 non-null    int64 \n",
      " 24  freetime    649 non-null    int64 \n",
      " 25  goout       649 non-null    int64 \n",
      " 26  Dalc        649 non-null    int64 \n",
      " 27  Walc        649 non-null    int64 \n",
      " 28  health      649 non-null    int64 \n",
      " 29  absences    649 non-null    int64 \n",
      " 30  G1          649 non-null    int64 \n",
      " 31  G2          649 non-null    int64 \n",
      " 32  G3          649 non-null    int64 \n",
      "dtypes: int64(16), object(17)\n",
      "memory usage: 167.4+ KB\n"
     ]
    }
   ],
   "source": [
    "df.info()"
   ]
  },
  {
   "cell_type": "code",
   "execution_count": 5,
   "id": "c1d0ac02",
   "metadata": {},
   "outputs": [
    {
     "data": {
      "application/vnd.microsoft.datawrangler.viewer.v0+json": {
       "columns": [
        {
         "name": "index",
         "rawType": "object",
         "type": "string"
        },
        {
         "name": "age",
         "rawType": "float64",
         "type": "float"
        },
        {
         "name": "Medu",
         "rawType": "float64",
         "type": "float"
        },
        {
         "name": "Fedu",
         "rawType": "float64",
         "type": "float"
        },
        {
         "name": "traveltime",
         "rawType": "float64",
         "type": "float"
        },
        {
         "name": "studytime",
         "rawType": "float64",
         "type": "float"
        },
        {
         "name": "failures",
         "rawType": "float64",
         "type": "float"
        },
        {
         "name": "famrel",
         "rawType": "float64",
         "type": "float"
        },
        {
         "name": "freetime",
         "rawType": "float64",
         "type": "float"
        },
        {
         "name": "goout",
         "rawType": "float64",
         "type": "float"
        },
        {
         "name": "Dalc",
         "rawType": "float64",
         "type": "float"
        },
        {
         "name": "Walc",
         "rawType": "float64",
         "type": "float"
        },
        {
         "name": "health",
         "rawType": "float64",
         "type": "float"
        },
        {
         "name": "absences",
         "rawType": "float64",
         "type": "float"
        },
        {
         "name": "G1",
         "rawType": "float64",
         "type": "float"
        },
        {
         "name": "G2",
         "rawType": "float64",
         "type": "float"
        },
        {
         "name": "G3",
         "rawType": "float64",
         "type": "float"
        }
       ],
       "ref": "89be5b8a-76a6-4968-a521-21b5ed5a0c91",
       "rows": [
        [
         "count",
         "649.0",
         "649.0",
         "649.0",
         "649.0",
         "649.0",
         "649.0",
         "649.0",
         "649.0",
         "649.0",
         "649.0",
         "649.0",
         "649.0",
         "649.0",
         "649.0",
         "649.0",
         "649.0"
        ],
        [
         "mean",
         "16.7442218798151",
         "2.514637904468413",
         "2.3066255778120186",
         "1.568567026194145",
         "1.9306625577812018",
         "0.2218798151001541",
         "3.930662557781202",
         "3.180277349768875",
         "3.184899845916795",
         "1.50231124807396",
         "2.280431432973806",
         "3.536209553158706",
         "3.6594761171032357",
         "11.399075500770415",
         "11.570107858243452",
         "11.906009244992296"
        ],
        [
         "std",
         "1.2181376394800656",
         "1.134551999953317",
         "1.099930911140803",
         "0.7486600863534161",
         "0.829509574636615",
         "0.5932351492649627",
         "0.9557168913381863",
         "1.051092575357063",
         "1.175766113842312",
         "0.9248344305673268",
         "1.2843799719490245",
         "1.4462590500910701",
         "4.640758808397153",
         "2.745265128446372",
         "2.913638664303867",
         "3.230656242804805"
        ],
        [
         "min",
         "15.0",
         "0.0",
         "0.0",
         "1.0",
         "1.0",
         "0.0",
         "1.0",
         "1.0",
         "1.0",
         "1.0",
         "1.0",
         "1.0",
         "0.0",
         "0.0",
         "0.0",
         "0.0"
        ],
        [
         "25%",
         "16.0",
         "2.0",
         "1.0",
         "1.0",
         "1.0",
         "0.0",
         "4.0",
         "3.0",
         "2.0",
         "1.0",
         "1.0",
         "2.0",
         "0.0",
         "10.0",
         "10.0",
         "10.0"
        ],
        [
         "50%",
         "17.0",
         "2.0",
         "2.0",
         "1.0",
         "2.0",
         "0.0",
         "4.0",
         "3.0",
         "3.0",
         "1.0",
         "2.0",
         "4.0",
         "2.0",
         "11.0",
         "11.0",
         "12.0"
        ],
        [
         "75%",
         "18.0",
         "4.0",
         "3.0",
         "2.0",
         "2.0",
         "0.0",
         "5.0",
         "4.0",
         "4.0",
         "2.0",
         "3.0",
         "5.0",
         "6.0",
         "13.0",
         "13.0",
         "14.0"
        ],
        [
         "max",
         "22.0",
         "4.0",
         "4.0",
         "4.0",
         "4.0",
         "3.0",
         "5.0",
         "5.0",
         "5.0",
         "5.0",
         "5.0",
         "5.0",
         "32.0",
         "19.0",
         "19.0",
         "19.0"
        ]
       ],
       "shape": {
        "columns": 16,
        "rows": 8
       }
      },
      "text/html": [
       "<div>\n",
       "<style scoped>\n",
       "    .dataframe tbody tr th:only-of-type {\n",
       "        vertical-align: middle;\n",
       "    }\n",
       "\n",
       "    .dataframe tbody tr th {\n",
       "        vertical-align: top;\n",
       "    }\n",
       "\n",
       "    .dataframe thead th {\n",
       "        text-align: right;\n",
       "    }\n",
       "</style>\n",
       "<table border=\"1\" class=\"dataframe\">\n",
       "  <thead>\n",
       "    <tr style=\"text-align: right;\">\n",
       "      <th></th>\n",
       "      <th>age</th>\n",
       "      <th>Medu</th>\n",
       "      <th>Fedu</th>\n",
       "      <th>traveltime</th>\n",
       "      <th>studytime</th>\n",
       "      <th>failures</th>\n",
       "      <th>famrel</th>\n",
       "      <th>freetime</th>\n",
       "      <th>goout</th>\n",
       "      <th>Dalc</th>\n",
       "      <th>Walc</th>\n",
       "      <th>health</th>\n",
       "      <th>absences</th>\n",
       "      <th>G1</th>\n",
       "      <th>G2</th>\n",
       "      <th>G3</th>\n",
       "    </tr>\n",
       "  </thead>\n",
       "  <tbody>\n",
       "    <tr>\n",
       "      <th>count</th>\n",
       "      <td>649.000000</td>\n",
       "      <td>649.000000</td>\n",
       "      <td>649.000000</td>\n",
       "      <td>649.000000</td>\n",
       "      <td>649.000000</td>\n",
       "      <td>649.000000</td>\n",
       "      <td>649.000000</td>\n",
       "      <td>649.000000</td>\n",
       "      <td>649.000000</td>\n",
       "      <td>649.000000</td>\n",
       "      <td>649.000000</td>\n",
       "      <td>649.000000</td>\n",
       "      <td>649.000000</td>\n",
       "      <td>649.000000</td>\n",
       "      <td>649.000000</td>\n",
       "      <td>649.000000</td>\n",
       "    </tr>\n",
       "    <tr>\n",
       "      <th>mean</th>\n",
       "      <td>16.744222</td>\n",
       "      <td>2.514638</td>\n",
       "      <td>2.306626</td>\n",
       "      <td>1.568567</td>\n",
       "      <td>1.930663</td>\n",
       "      <td>0.221880</td>\n",
       "      <td>3.930663</td>\n",
       "      <td>3.180277</td>\n",
       "      <td>3.184900</td>\n",
       "      <td>1.502311</td>\n",
       "      <td>2.280431</td>\n",
       "      <td>3.536210</td>\n",
       "      <td>3.659476</td>\n",
       "      <td>11.399076</td>\n",
       "      <td>11.570108</td>\n",
       "      <td>11.906009</td>\n",
       "    </tr>\n",
       "    <tr>\n",
       "      <th>std</th>\n",
       "      <td>1.218138</td>\n",
       "      <td>1.134552</td>\n",
       "      <td>1.099931</td>\n",
       "      <td>0.748660</td>\n",
       "      <td>0.829510</td>\n",
       "      <td>0.593235</td>\n",
       "      <td>0.955717</td>\n",
       "      <td>1.051093</td>\n",
       "      <td>1.175766</td>\n",
       "      <td>0.924834</td>\n",
       "      <td>1.284380</td>\n",
       "      <td>1.446259</td>\n",
       "      <td>4.640759</td>\n",
       "      <td>2.745265</td>\n",
       "      <td>2.913639</td>\n",
       "      <td>3.230656</td>\n",
       "    </tr>\n",
       "    <tr>\n",
       "      <th>min</th>\n",
       "      <td>15.000000</td>\n",
       "      <td>0.000000</td>\n",
       "      <td>0.000000</td>\n",
       "      <td>1.000000</td>\n",
       "      <td>1.000000</td>\n",
       "      <td>0.000000</td>\n",
       "      <td>1.000000</td>\n",
       "      <td>1.000000</td>\n",
       "      <td>1.000000</td>\n",
       "      <td>1.000000</td>\n",
       "      <td>1.000000</td>\n",
       "      <td>1.000000</td>\n",
       "      <td>0.000000</td>\n",
       "      <td>0.000000</td>\n",
       "      <td>0.000000</td>\n",
       "      <td>0.000000</td>\n",
       "    </tr>\n",
       "    <tr>\n",
       "      <th>25%</th>\n",
       "      <td>16.000000</td>\n",
       "      <td>2.000000</td>\n",
       "      <td>1.000000</td>\n",
       "      <td>1.000000</td>\n",
       "      <td>1.000000</td>\n",
       "      <td>0.000000</td>\n",
       "      <td>4.000000</td>\n",
       "      <td>3.000000</td>\n",
       "      <td>2.000000</td>\n",
       "      <td>1.000000</td>\n",
       "      <td>1.000000</td>\n",
       "      <td>2.000000</td>\n",
       "      <td>0.000000</td>\n",
       "      <td>10.000000</td>\n",
       "      <td>10.000000</td>\n",
       "      <td>10.000000</td>\n",
       "    </tr>\n",
       "    <tr>\n",
       "      <th>50%</th>\n",
       "      <td>17.000000</td>\n",
       "      <td>2.000000</td>\n",
       "      <td>2.000000</td>\n",
       "      <td>1.000000</td>\n",
       "      <td>2.000000</td>\n",
       "      <td>0.000000</td>\n",
       "      <td>4.000000</td>\n",
       "      <td>3.000000</td>\n",
       "      <td>3.000000</td>\n",
       "      <td>1.000000</td>\n",
       "      <td>2.000000</td>\n",
       "      <td>4.000000</td>\n",
       "      <td>2.000000</td>\n",
       "      <td>11.000000</td>\n",
       "      <td>11.000000</td>\n",
       "      <td>12.000000</td>\n",
       "    </tr>\n",
       "    <tr>\n",
       "      <th>75%</th>\n",
       "      <td>18.000000</td>\n",
       "      <td>4.000000</td>\n",
       "      <td>3.000000</td>\n",
       "      <td>2.000000</td>\n",
       "      <td>2.000000</td>\n",
       "      <td>0.000000</td>\n",
       "      <td>5.000000</td>\n",
       "      <td>4.000000</td>\n",
       "      <td>4.000000</td>\n",
       "      <td>2.000000</td>\n",
       "      <td>3.000000</td>\n",
       "      <td>5.000000</td>\n",
       "      <td>6.000000</td>\n",
       "      <td>13.000000</td>\n",
       "      <td>13.000000</td>\n",
       "      <td>14.000000</td>\n",
       "    </tr>\n",
       "    <tr>\n",
       "      <th>max</th>\n",
       "      <td>22.000000</td>\n",
       "      <td>4.000000</td>\n",
       "      <td>4.000000</td>\n",
       "      <td>4.000000</td>\n",
       "      <td>4.000000</td>\n",
       "      <td>3.000000</td>\n",
       "      <td>5.000000</td>\n",
       "      <td>5.000000</td>\n",
       "      <td>5.000000</td>\n",
       "      <td>5.000000</td>\n",
       "      <td>5.000000</td>\n",
       "      <td>5.000000</td>\n",
       "      <td>32.000000</td>\n",
       "      <td>19.000000</td>\n",
       "      <td>19.000000</td>\n",
       "      <td>19.000000</td>\n",
       "    </tr>\n",
       "  </tbody>\n",
       "</table>\n",
       "</div>"
      ],
      "text/plain": [
       "              age        Medu        Fedu  traveltime   studytime    failures  \\\n",
       "count  649.000000  649.000000  649.000000  649.000000  649.000000  649.000000   \n",
       "mean    16.744222    2.514638    2.306626    1.568567    1.930663    0.221880   \n",
       "std      1.218138    1.134552    1.099931    0.748660    0.829510    0.593235   \n",
       "min     15.000000    0.000000    0.000000    1.000000    1.000000    0.000000   \n",
       "25%     16.000000    2.000000    1.000000    1.000000    1.000000    0.000000   \n",
       "50%     17.000000    2.000000    2.000000    1.000000    2.000000    0.000000   \n",
       "75%     18.000000    4.000000    3.000000    2.000000    2.000000    0.000000   \n",
       "max     22.000000    4.000000    4.000000    4.000000    4.000000    3.000000   \n",
       "\n",
       "           famrel    freetime       goout        Dalc        Walc      health  \\\n",
       "count  649.000000  649.000000  649.000000  649.000000  649.000000  649.000000   \n",
       "mean     3.930663    3.180277    3.184900    1.502311    2.280431    3.536210   \n",
       "std      0.955717    1.051093    1.175766    0.924834    1.284380    1.446259   \n",
       "min      1.000000    1.000000    1.000000    1.000000    1.000000    1.000000   \n",
       "25%      4.000000    3.000000    2.000000    1.000000    1.000000    2.000000   \n",
       "50%      4.000000    3.000000    3.000000    1.000000    2.000000    4.000000   \n",
       "75%      5.000000    4.000000    4.000000    2.000000    3.000000    5.000000   \n",
       "max      5.000000    5.000000    5.000000    5.000000    5.000000    5.000000   \n",
       "\n",
       "         absences          G1          G2          G3  \n",
       "count  649.000000  649.000000  649.000000  649.000000  \n",
       "mean     3.659476   11.399076   11.570108   11.906009  \n",
       "std      4.640759    2.745265    2.913639    3.230656  \n",
       "min      0.000000    0.000000    0.000000    0.000000  \n",
       "25%      0.000000   10.000000   10.000000   10.000000  \n",
       "50%      2.000000   11.000000   11.000000   12.000000  \n",
       "75%      6.000000   13.000000   13.000000   14.000000  \n",
       "max     32.000000   19.000000   19.000000   19.000000  "
      ]
     },
     "execution_count": 5,
     "metadata": {},
     "output_type": "execute_result"
    }
   ],
   "source": [
    "df.describe()"
   ]
  },
  {
   "cell_type": "code",
   "execution_count": 6,
   "id": "ab948013",
   "metadata": {},
   "outputs": [
    {
     "data": {
      "application/vnd.microsoft.datawrangler.viewer.v0+json": {
       "columns": [
        {
         "name": "index",
         "rawType": "object",
         "type": "string"
        },
        {
         "name": "school",
         "rawType": "object",
         "type": "unknown"
        },
        {
         "name": "sex",
         "rawType": "object",
         "type": "unknown"
        },
        {
         "name": "address",
         "rawType": "object",
         "type": "unknown"
        },
        {
         "name": "famsize",
         "rawType": "object",
         "type": "unknown"
        },
        {
         "name": "Pstatus",
         "rawType": "object",
         "type": "unknown"
        },
        {
         "name": "Mjob",
         "rawType": "object",
         "type": "unknown"
        },
        {
         "name": "Fjob",
         "rawType": "object",
         "type": "unknown"
        },
        {
         "name": "reason",
         "rawType": "object",
         "type": "unknown"
        },
        {
         "name": "guardian",
         "rawType": "object",
         "type": "unknown"
        },
        {
         "name": "schoolsup",
         "rawType": "object",
         "type": "unknown"
        },
        {
         "name": "famsup",
         "rawType": "object",
         "type": "unknown"
        },
        {
         "name": "paid",
         "rawType": "object",
         "type": "unknown"
        },
        {
         "name": "activities",
         "rawType": "object",
         "type": "unknown"
        },
        {
         "name": "nursery",
         "rawType": "object",
         "type": "unknown"
        },
        {
         "name": "higher",
         "rawType": "object",
         "type": "unknown"
        },
        {
         "name": "internet",
         "rawType": "object",
         "type": "unknown"
        },
        {
         "name": "romantic",
         "rawType": "object",
         "type": "unknown"
        }
       ],
       "ref": "cebadffe-80a3-4175-9670-8565c2242005",
       "rows": [
        [
         "count",
         "649",
         "649",
         "649",
         "649",
         "649",
         "649",
         "649",
         "649",
         "649",
         "649",
         "649",
         "649",
         "649",
         "649",
         "649",
         "649",
         "649"
        ],
        [
         "unique",
         "2",
         "2",
         "2",
         "2",
         "2",
         "5",
         "5",
         "4",
         "3",
         "2",
         "2",
         "2",
         "2",
         "2",
         "2",
         "2",
         "2"
        ],
        [
         "top",
         "GP",
         "F",
         "U",
         "GT3",
         "T",
         "other",
         "other",
         "course",
         "mother",
         "no",
         "yes",
         "no",
         "no",
         "yes",
         "yes",
         "yes",
         "no"
        ],
        [
         "freq",
         "423",
         "383",
         "452",
         "457",
         "569",
         "258",
         "367",
         "285",
         "455",
         "581",
         "398",
         "610",
         "334",
         "521",
         "580",
         "498",
         "410"
        ]
       ],
       "shape": {
        "columns": 17,
        "rows": 4
       }
      },
      "text/html": [
       "<div>\n",
       "<style scoped>\n",
       "    .dataframe tbody tr th:only-of-type {\n",
       "        vertical-align: middle;\n",
       "    }\n",
       "\n",
       "    .dataframe tbody tr th {\n",
       "        vertical-align: top;\n",
       "    }\n",
       "\n",
       "    .dataframe thead th {\n",
       "        text-align: right;\n",
       "    }\n",
       "</style>\n",
       "<table border=\"1\" class=\"dataframe\">\n",
       "  <thead>\n",
       "    <tr style=\"text-align: right;\">\n",
       "      <th></th>\n",
       "      <th>school</th>\n",
       "      <th>sex</th>\n",
       "      <th>address</th>\n",
       "      <th>famsize</th>\n",
       "      <th>Pstatus</th>\n",
       "      <th>Mjob</th>\n",
       "      <th>Fjob</th>\n",
       "      <th>reason</th>\n",
       "      <th>guardian</th>\n",
       "      <th>schoolsup</th>\n",
       "      <th>famsup</th>\n",
       "      <th>paid</th>\n",
       "      <th>activities</th>\n",
       "      <th>nursery</th>\n",
       "      <th>higher</th>\n",
       "      <th>internet</th>\n",
       "      <th>romantic</th>\n",
       "    </tr>\n",
       "  </thead>\n",
       "  <tbody>\n",
       "    <tr>\n",
       "      <th>count</th>\n",
       "      <td>649</td>\n",
       "      <td>649</td>\n",
       "      <td>649</td>\n",
       "      <td>649</td>\n",
       "      <td>649</td>\n",
       "      <td>649</td>\n",
       "      <td>649</td>\n",
       "      <td>649</td>\n",
       "      <td>649</td>\n",
       "      <td>649</td>\n",
       "      <td>649</td>\n",
       "      <td>649</td>\n",
       "      <td>649</td>\n",
       "      <td>649</td>\n",
       "      <td>649</td>\n",
       "      <td>649</td>\n",
       "      <td>649</td>\n",
       "    </tr>\n",
       "    <tr>\n",
       "      <th>unique</th>\n",
       "      <td>2</td>\n",
       "      <td>2</td>\n",
       "      <td>2</td>\n",
       "      <td>2</td>\n",
       "      <td>2</td>\n",
       "      <td>5</td>\n",
       "      <td>5</td>\n",
       "      <td>4</td>\n",
       "      <td>3</td>\n",
       "      <td>2</td>\n",
       "      <td>2</td>\n",
       "      <td>2</td>\n",
       "      <td>2</td>\n",
       "      <td>2</td>\n",
       "      <td>2</td>\n",
       "      <td>2</td>\n",
       "      <td>2</td>\n",
       "    </tr>\n",
       "    <tr>\n",
       "      <th>top</th>\n",
       "      <td>GP</td>\n",
       "      <td>F</td>\n",
       "      <td>U</td>\n",
       "      <td>GT3</td>\n",
       "      <td>T</td>\n",
       "      <td>other</td>\n",
       "      <td>other</td>\n",
       "      <td>course</td>\n",
       "      <td>mother</td>\n",
       "      <td>no</td>\n",
       "      <td>yes</td>\n",
       "      <td>no</td>\n",
       "      <td>no</td>\n",
       "      <td>yes</td>\n",
       "      <td>yes</td>\n",
       "      <td>yes</td>\n",
       "      <td>no</td>\n",
       "    </tr>\n",
       "    <tr>\n",
       "      <th>freq</th>\n",
       "      <td>423</td>\n",
       "      <td>383</td>\n",
       "      <td>452</td>\n",
       "      <td>457</td>\n",
       "      <td>569</td>\n",
       "      <td>258</td>\n",
       "      <td>367</td>\n",
       "      <td>285</td>\n",
       "      <td>455</td>\n",
       "      <td>581</td>\n",
       "      <td>398</td>\n",
       "      <td>610</td>\n",
       "      <td>334</td>\n",
       "      <td>521</td>\n",
       "      <td>580</td>\n",
       "      <td>498</td>\n",
       "      <td>410</td>\n",
       "    </tr>\n",
       "  </tbody>\n",
       "</table>\n",
       "</div>"
      ],
      "text/plain": [
       "       school  sex address famsize Pstatus   Mjob   Fjob  reason guardian  \\\n",
       "count     649  649     649     649     649    649    649     649      649   \n",
       "unique      2    2       2       2       2      5      5       4        3   \n",
       "top        GP    F       U     GT3       T  other  other  course   mother   \n",
       "freq      423  383     452     457     569    258    367     285      455   \n",
       "\n",
       "       schoolsup famsup paid activities nursery higher internet romantic  \n",
       "count        649    649  649        649     649    649      649      649  \n",
       "unique         2      2    2          2       2      2        2        2  \n",
       "top           no    yes   no         no     yes    yes      yes       no  \n",
       "freq         581    398  610        334     521    580      498      410  "
      ]
     },
     "execution_count": 6,
     "metadata": {},
     "output_type": "execute_result"
    }
   ],
   "source": [
    "df.describe(include=\"object\")"
   ]
  },
  {
   "cell_type": "code",
   "execution_count": 7,
   "id": "a1008841",
   "metadata": {},
   "outputs": [
    {
     "data": {
      "application/vnd.microsoft.datawrangler.viewer.v0+json": {
       "columns": [
        {
         "name": "index",
         "rawType": "object",
         "type": "string"
        },
        {
         "name": "0",
         "rawType": "object",
         "type": "unknown"
        }
       ],
       "ref": "e87a61d2-b825-4341-8f7e-a404b74509b0",
       "rows": [
        [
         "school",
         "object"
        ],
        [
         "sex",
         "object"
        ],
        [
         "age",
         "int64"
        ],
        [
         "address",
         "object"
        ],
        [
         "famsize",
         "object"
        ],
        [
         "Pstatus",
         "object"
        ],
        [
         "Medu",
         "int64"
        ],
        [
         "Fedu",
         "int64"
        ],
        [
         "Mjob",
         "object"
        ],
        [
         "Fjob",
         "object"
        ],
        [
         "reason",
         "object"
        ],
        [
         "guardian",
         "object"
        ],
        [
         "traveltime",
         "int64"
        ],
        [
         "studytime",
         "int64"
        ],
        [
         "failures",
         "int64"
        ],
        [
         "schoolsup",
         "object"
        ],
        [
         "famsup",
         "object"
        ],
        [
         "paid",
         "object"
        ],
        [
         "activities",
         "object"
        ],
        [
         "nursery",
         "object"
        ],
        [
         "higher",
         "object"
        ],
        [
         "internet",
         "object"
        ],
        [
         "romantic",
         "object"
        ],
        [
         "famrel",
         "int64"
        ],
        [
         "freetime",
         "int64"
        ],
        [
         "goout",
         "int64"
        ],
        [
         "Dalc",
         "int64"
        ],
        [
         "Walc",
         "int64"
        ],
        [
         "health",
         "int64"
        ],
        [
         "absences",
         "int64"
        ],
        [
         "G1",
         "int64"
        ],
        [
         "G2",
         "int64"
        ],
        [
         "G3",
         "int64"
        ]
       ],
       "shape": {
        "columns": 1,
        "rows": 33
       }
      },
      "text/plain": [
       "school        object\n",
       "sex           object\n",
       "age            int64\n",
       "address       object\n",
       "famsize       object\n",
       "Pstatus       object\n",
       "Medu           int64\n",
       "Fedu           int64\n",
       "Mjob          object\n",
       "Fjob          object\n",
       "reason        object\n",
       "guardian      object\n",
       "traveltime     int64\n",
       "studytime      int64\n",
       "failures       int64\n",
       "schoolsup     object\n",
       "famsup        object\n",
       "paid          object\n",
       "activities    object\n",
       "nursery       object\n",
       "higher        object\n",
       "internet      object\n",
       "romantic      object\n",
       "famrel         int64\n",
       "freetime       int64\n",
       "goout          int64\n",
       "Dalc           int64\n",
       "Walc           int64\n",
       "health         int64\n",
       "absences       int64\n",
       "G1             int64\n",
       "G2             int64\n",
       "G3             int64\n",
       "dtype: object"
      ]
     },
     "execution_count": 7,
     "metadata": {},
     "output_type": "execute_result"
    }
   ],
   "source": [
    "df.dtypes"
   ]
  },
  {
   "cell_type": "code",
   "execution_count": 8,
   "id": "159e9c15",
   "metadata": {},
   "outputs": [
    {
     "data": {
      "application/vnd.microsoft.datawrangler.viewer.v0+json": {
       "columns": [
        {
         "name": "index",
         "rawType": "object",
         "type": "string"
        },
        {
         "name": "0",
         "rawType": "int64",
         "type": "integer"
        }
       ],
       "ref": "6e8452f1-07c2-41e1-a8a7-9168ac763e96",
       "rows": [
        [
         "school",
         "0"
        ],
        [
         "sex",
         "0"
        ],
        [
         "age",
         "0"
        ],
        [
         "address",
         "0"
        ],
        [
         "famsize",
         "0"
        ],
        [
         "Pstatus",
         "0"
        ],
        [
         "Medu",
         "0"
        ],
        [
         "Fedu",
         "0"
        ],
        [
         "Mjob",
         "0"
        ],
        [
         "Fjob",
         "0"
        ],
        [
         "reason",
         "0"
        ],
        [
         "guardian",
         "0"
        ],
        [
         "traveltime",
         "0"
        ],
        [
         "studytime",
         "0"
        ],
        [
         "failures",
         "0"
        ],
        [
         "schoolsup",
         "0"
        ],
        [
         "famsup",
         "0"
        ],
        [
         "paid",
         "0"
        ],
        [
         "activities",
         "0"
        ],
        [
         "nursery",
         "0"
        ],
        [
         "higher",
         "0"
        ],
        [
         "internet",
         "0"
        ],
        [
         "romantic",
         "0"
        ],
        [
         "famrel",
         "0"
        ],
        [
         "freetime",
         "0"
        ],
        [
         "goout",
         "0"
        ],
        [
         "Dalc",
         "0"
        ],
        [
         "Walc",
         "0"
        ],
        [
         "health",
         "0"
        ],
        [
         "absences",
         "0"
        ],
        [
         "G1",
         "0"
        ],
        [
         "G2",
         "0"
        ],
        [
         "G3",
         "0"
        ]
       ],
       "shape": {
        "columns": 1,
        "rows": 33
       }
      },
      "text/plain": [
       "school        0\n",
       "sex           0\n",
       "age           0\n",
       "address       0\n",
       "famsize       0\n",
       "Pstatus       0\n",
       "Medu          0\n",
       "Fedu          0\n",
       "Mjob          0\n",
       "Fjob          0\n",
       "reason        0\n",
       "guardian      0\n",
       "traveltime    0\n",
       "studytime     0\n",
       "failures      0\n",
       "schoolsup     0\n",
       "famsup        0\n",
       "paid          0\n",
       "activities    0\n",
       "nursery       0\n",
       "higher        0\n",
       "internet      0\n",
       "romantic      0\n",
       "famrel        0\n",
       "freetime      0\n",
       "goout         0\n",
       "Dalc          0\n",
       "Walc          0\n",
       "health        0\n",
       "absences      0\n",
       "G1            0\n",
       "G2            0\n",
       "G3            0\n",
       "dtype: int64"
      ]
     },
     "execution_count": 8,
     "metadata": {},
     "output_type": "execute_result"
    }
   ],
   "source": [
    "df.isna().sum()"
   ]
  },
  {
   "cell_type": "code",
   "execution_count": 9,
   "id": "7c482826",
   "metadata": {},
   "outputs": [
    {
     "data": {
      "text/plain": [
       "np.int64(0)"
      ]
     },
     "execution_count": 9,
     "metadata": {},
     "output_type": "execute_result"
    }
   ],
   "source": [
    "df.duplicated().sum()"
   ]
  },
  {
   "cell_type": "markdown",
   "id": "44913f47",
   "metadata": {},
   "source": [
    "## 🔍 Categorical Variables Analysis\n",
    "\n",
    "**Critical**: Understanding ordinal vs nominal features affects validation, outlier detection, and later preprocessing choices."
   ]
  },
  {
   "cell_type": "code",
   "execution_count": 10,
   "id": "e846cbf7",
   "metadata": {},
   "outputs": [
    {
     "name": "stdout",
     "output_type": "stream",
     "text": [
      "🔢 Ordinal Features (with meaningful order):\n",
      "  Medu: [0, 1, 2, 3, 4]\n",
      "  Fedu: [0, 1, 2, 3, 4]\n",
      "  traveltime: [1, 2, 3, 4]\n",
      "  studytime: [1, 2, 3, 4]\n",
      "  failures: [0, 1, 2, 3, 4]\n",
      "  famrel: [1, 2, 3, 4, 5]\n",
      "  freetime: [1, 2, 3, 4, 5]\n",
      "  goout: [1, 2, 3, 4, 5]\n",
      "  Dalc: [1, 2, 3, 4, 5]\n",
      "  Walc: [1, 2, 3, 4, 5]\n",
      "  health: [1, 2, 3, 4, 5]\n",
      "\n",
      "📝 Nominal Features (no meaningful order): 17\n",
      "  ['school', 'sex', 'address', 'famsize', 'Pstatus', 'Mjob', 'Fjob', 'reason', 'guardian', 'schoolsup', 'famsup', 'paid', 'activities', 'nursery', 'higher', 'internet', 'romantic']\n"
     ]
    }
   ],
   "source": [
    "# Define feature types based on domain knowledge\n",
    "ordinal_features = {\n",
    "    \"Medu\": [0, 1, 2, 3, 4],  # Mother's education (none to higher)\n",
    "    \"Fedu\": [0, 1, 2, 3, 4],  # Father's education (none to higher)\n",
    "    \"traveltime\": [1, 2, 3, 4],  # Travel time (<15min to >1hour)\n",
    "    \"studytime\": [1, 2, 3, 4],  # Study time (<2h to >10h)\n",
    "    \"failures\": [0, 1, 2, 3, 4],  # Number of failures (0 to 3+)\n",
    "    \"famrel\": [1, 2, 3, 4, 5],  # Family relationship (very bad to excellent)\n",
    "    \"freetime\": [1, 2, 3, 4, 5],  # Free time (very low to very high)\n",
    "    \"goout\": [1, 2, 3, 4, 5],  # Going out (very low to very high)\n",
    "    \"Dalc\": [1, 2, 3, 4, 5],  # Workday alcohol (very low to very high)\n",
    "    \"Walc\": [1, 2, 3, 4, 5],  # Weekend alcohol (very low to very high)\n",
    "    \"health\": [1, 2, 3, 4, 5],  # Health status (very bad to very good)\n",
    "}\n",
    "\n",
    "nominal_features = [\n",
    "    \"school\",\n",
    "    \"sex\",\n",
    "    \"address\",\n",
    "    \"famsize\",\n",
    "    \"Pstatus\",\n",
    "    \"Mjob\",\n",
    "    \"Fjob\",\n",
    "    \"reason\",\n",
    "    \"guardian\",\n",
    "    \"schoolsup\",\n",
    "    \"famsup\",\n",
    "    \"paid\",\n",
    "    \"activities\",\n",
    "    \"nursery\",\n",
    "    \"higher\",\n",
    "    \"internet\",\n",
    "    \"romantic\",\n",
    "]\n",
    "\n",
    "print(\"🔢 Ordinal Features (with meaningful order):\")\n",
    "for feature, values in ordinal_features.items():\n",
    "    print(f\"  {feature}: {values}\")\n",
    "\n",
    "print(f\"\\n📝 Nominal Features (no meaningful order): {len(nominal_features)}\")\n",
    "print(f\"  {nominal_features}\")"
   ]
  },
  {
   "cell_type": "code",
   "execution_count": 11,
   "id": "82b3a6e4",
   "metadata": {},
   "outputs": [
    {
     "name": "stdout",
     "output_type": "stream",
     "text": [
      "=== ORDINAL FEATURES VALIDATION ===\n",
      "\n",
      "Medu:\n",
      "  Expected: [0, 1, 2, 3, 4]\n",
      "  Actual: [np.int64(0), np.int64(1), np.int64(2), np.int64(3), np.int64(4)]\n",
      "\n",
      "Fedu:\n",
      "  Expected: [0, 1, 2, 3, 4]\n",
      "  Actual: [np.int64(0), np.int64(1), np.int64(2), np.int64(3), np.int64(4)]\n",
      "\n",
      "traveltime:\n",
      "  Expected: [1, 2, 3, 4]\n",
      "  Actual: [np.int64(1), np.int64(2), np.int64(3), np.int64(4)]\n",
      "\n",
      "studytime:\n",
      "  Expected: [1, 2, 3, 4]\n",
      "  Actual: [np.int64(1), np.int64(2), np.int64(3), np.int64(4)]\n",
      "\n",
      "failures:\n",
      "  Expected: [0, 1, 2, 3, 4]\n",
      "  Actual: [np.int64(0), np.int64(1), np.int64(2), np.int64(3)]\n",
      "  ℹ️  Missing levels: [4]\n",
      "\n",
      "famrel:\n",
      "  Expected: [1, 2, 3, 4, 5]\n",
      "  Actual: [np.int64(1), np.int64(2), np.int64(3), np.int64(4), np.int64(5)]\n",
      "\n",
      "freetime:\n",
      "  Expected: [1, 2, 3, 4, 5]\n",
      "  Actual: [np.int64(1), np.int64(2), np.int64(3), np.int64(4), np.int64(5)]\n",
      "\n",
      "goout:\n",
      "  Expected: [1, 2, 3, 4, 5]\n",
      "  Actual: [np.int64(1), np.int64(2), np.int64(3), np.int64(4), np.int64(5)]\n",
      "\n",
      "Dalc:\n",
      "  Expected: [1, 2, 3, 4, 5]\n",
      "  Actual: [np.int64(1), np.int64(2), np.int64(3), np.int64(4), np.int64(5)]\n",
      "\n",
      "Walc:\n",
      "  Expected: [1, 2, 3, 4, 5]\n",
      "  Actual: [np.int64(1), np.int64(2), np.int64(3), np.int64(4), np.int64(5)]\n",
      "\n",
      "health:\n",
      "  Expected: [1, 2, 3, 4, 5]\n",
      "  Actual: [np.int64(1), np.int64(2), np.int64(3), np.int64(4), np.int64(5)]\n",
      "\n",
      "🚨 Found issues in 1 ordinal features!\n"
     ]
    }
   ],
   "source": [
    "# ORDINAL-SPECIFIC VALIDATION\n",
    "print(\"=== ORDINAL FEATURES VALIDATION ===\")\n",
    "ordinal_issues = {}\n",
    "\n",
    "for feature, expected_values in ordinal_features.items():\n",
    "    if feature in df.columns:\n",
    "        actual_values = sorted(df[feature].unique())\n",
    "        expected_set = set(expected_values)\n",
    "        actual_set = set(actual_values)\n",
    "\n",
    "        # Check for unexpected values (potential data entry errors)\n",
    "        unexpected = actual_set - expected_set\n",
    "        missing_levels = expected_set - actual_set\n",
    "\n",
    "        if unexpected or missing_levels:\n",
    "            ordinal_issues[feature] = {\n",
    "                \"unexpected\": list(unexpected),\n",
    "                \"missing_levels\": list(missing_levels),\n",
    "                \"actual_range\": f\"{min(actual_values)} to {max(actual_values)}\",\n",
    "            }\n",
    "\n",
    "        print(f\"\\n{feature}:\")\n",
    "        print(f\"  Expected: {expected_values}\")\n",
    "        print(f\"  Actual: {actual_values}\")\n",
    "        if unexpected:\n",
    "            print(f\"  ⚠️  UNEXPECTED VALUES: {list(unexpected)}\")\n",
    "        if missing_levels:\n",
    "            print(f\"  ℹ️  Missing levels: {list(missing_levels)}\")\n",
    "\n",
    "if ordinal_issues:\n",
    "    print(f\"\\n🚨 Found issues in {len(ordinal_issues)} ordinal features!\")\n",
    "else:\n",
    "    print(f\"\\n✅ All ordinal features have valid value ranges\")"
   ]
  },
  {
   "cell_type": "markdown",
   "id": "587e9c66",
   "metadata": {},
   "source": [
    "### It is normal to not have students with 3 or more failed classes"
   ]
  },
  {
   "cell_type": "code",
   "execution_count": 12,
   "id": "a1674d54",
   "metadata": {},
   "outputs": [
    {
     "name": "stdout",
     "output_type": "stream",
     "text": [
      "\n",
      "=== NOMINAL FEATURES VALIDATION ===\n",
      "\n",
      "school: ['GP', 'MS']\n",
      "\n",
      "sex: ['F', 'M']\n",
      "\n",
      "address: ['R', 'U']\n",
      "\n",
      "famsize: ['GT3', 'LE3']\n",
      "\n",
      "Pstatus: ['A', 'T']\n",
      "\n",
      "Mjob: ['at_home', 'health', 'other', 'services', 'teacher']\n",
      "\n",
      "Fjob: ['at_home', 'health', 'other', 'services', 'teacher']\n",
      "\n",
      "reason: ['course', 'home', 'other', 'reputation']\n",
      "\n",
      "guardian: ['father', 'mother', 'other']\n",
      "\n",
      "schoolsup: ['no', 'yes']\n",
      "\n",
      "famsup: ['no', 'yes']\n",
      "\n",
      "paid: ['no', 'yes']\n",
      "\n",
      "activities: ['no', 'yes']\n",
      "\n",
      "nursery: ['no', 'yes']\n",
      "\n",
      "higher: ['no', 'yes']\n",
      "\n",
      "internet: ['no', 'yes']\n",
      "\n",
      "romantic: ['no', 'yes']\n",
      "\n",
      "✅ All nominal features have expected categories\n"
     ]
    }
   ],
   "source": [
    "# 🚨 NOMINAL-SPECIFIC VALIDATION\n",
    "print(\"\\n=== NOMINAL FEATURES VALIDATION ===\")\n",
    "\n",
    "# Expected values for nominal features (from dataset documentation)\n",
    "nominal_expected = {\n",
    "    \"school\": [\"GP\", \"MS\"],\n",
    "    \"sex\": [\"F\", \"M\"],\n",
    "    \"address\": [\"U\", \"R\"],\n",
    "    \"famsize\": [\"LE3\", \"GT3\"],\n",
    "    \"Pstatus\": [\"T\", \"A\"],\n",
    "    \"Mjob\": [\"teacher\", \"health\", \"services\", \"at_home\", \"other\"],\n",
    "    \"Fjob\": [\"teacher\", \"health\", \"services\", \"at_home\", \"other\"],\n",
    "    \"reason\": [\"home\", \"reputation\", \"course\", \"other\"],\n",
    "    \"guardian\": [\"mother\", \"father\", \"other\"],\n",
    "    \"schoolsup\": [\"yes\", \"no\"],\n",
    "    \"famsup\": [\"yes\", \"no\"],\n",
    "    \"paid\": [\"yes\", \"no\"],\n",
    "    \"activities\": [\"yes\", \"no\"],\n",
    "    \"nursery\": [\"yes\", \"no\"],\n",
    "    \"higher\": [\"yes\", \"no\"],\n",
    "    \"internet\": [\"yes\", \"no\"],\n",
    "    \"romantic\": [\"yes\", \"no\"],\n",
    "}\n",
    "\n",
    "nominal_issues = {}\n",
    "for feature in nominal_features:\n",
    "    if feature in df.columns:\n",
    "        actual_values = sorted(df[feature].unique())\n",
    "\n",
    "        # Check for potential typos/case issues\n",
    "        if feature in nominal_expected:\n",
    "            expected = set(nominal_expected[feature])\n",
    "            actual = set(actual_values)\n",
    "            unexpected = actual - expected\n",
    "\n",
    "            if unexpected:\n",
    "                nominal_issues[feature] = list(unexpected)\n",
    "\n",
    "        print(f\"\\n{feature}: {actual_values}\")\n",
    "        if feature in nominal_issues:\n",
    "            print(f\"  ⚠️  UNEXPECTED: {nominal_issues[feature]}\")\n",
    "\n",
    "if nominal_issues:\n",
    "    print(\n",
    "        f\"\\n🚨 Found potential typos/encoding issues in {len(nominal_issues)} nominal features!\"\n",
    "    )\n",
    "else:\n",
    "    print(f\"\\n✅ All nominal features have expected categories\")"
   ]
  },
  {
   "cell_type": "code",
   "execution_count": null,
   "id": "8288abad",
   "metadata": {},
   "outputs": [
    {
     "data": {
      "image/png": "[encoded data removed]",
      "text/plain": [
       "<Figure size 1800x700 with 2 Axes>"
      ]
     },
     "metadata": {},
     "output_type": "display_data"
    }
   ],
   "source": [
    "continuous_features = [\"age\", \"absences\", \"G1\", \"G2\", \"G3\"]\n",
    "\n",
    "plt.style.use(\"seaborn-v0_8-whitegrid\")\n",
    "\n",
    "fig, axs = plt.subplots(1, 2, figsize=(18, 7))\n",
    "\n",
    "# Main title for the figure\n",
    "fig.suptitle(\n",
    "    \"Distribution of Continuous Numerical Features\", fontsize=20, fontweight=\"bold\"\n",
    ")\n",
    "\n",
    "# Boxplot for TotalCharges\n",
    "sns.boxplot(data=df, y=continuous_features[0], ax=axs[0], color=\"#0A174E\")\n",
    "axs[0].set_title(\"Age\", fontsize=14)\n",
    "axs[0].set_ylabel(\"Years\", fontsize=12)\n",
    "axs[0].grid(True, which=\"both\", linewidth=0.5)\n",
    "\n",
    "\n",
    "# Boxplot for MonthlyCharges\n",
    "sns.boxplot(data=df, y=continuous_features[1], ax=axs[1], color=\"#A4193D\")\n",
    "axs[1].set_title(\"Absences\", fontsize=14)\n",
    "axs[1].set_ylabel(\"Days\", fontsize=12)\n",
    "axs[1].grid(True, which=\"both\", linewidth=0.5)\n",
    "\n",
    "\n",
    "plt.tight_layout(rect=[0, 0.03, 1, 0.95])\n",
    "\n",
    "plt.show()"
   ]
  },
  {
   "cell_type": "markdown",
   "id": "bfeb7a9a",
   "metadata": {},
   "source": [
    "## ✅ Outlier Treatment Decision\n",
    "\n",
    "**Keep all data points** - no removal needed:\n",
    "- Age range 15-22: Normal for secondary education\n",
    "- Absences 0-32: Within realistic bounds\n",
    "- No data entry errors found\n",
    "- \"Outliers\" represent valuable student populations (at-risk students, adult learners)"
   ]
  },
  {
   "cell_type": "markdown",
   "id": "07c69e48",
   "metadata": {},
   "source": [
    "## Feature engineering"
   ]
  },
  {
   "cell_type": "code",
   "execution_count": null,
   "id": "94d3cbf8",
   "metadata": {},
   "outputs": [],
   "source": [
    "# Create a binary target variable: pass (1) if G3 >= 10, else fail (0)\n",
    "df[\"pass_fail\"] = (df[\"G3\"] >= 10).astype(int)"
   ]
  },
  {
   "cell_type": "markdown",
   "id": "2098b898",
   "metadata": {},
   "source": [
    "## Export dataset"
   ]
  },
  {
   "cell_type": "code",
   "execution_count": null,
   "id": "e2f0dd04",
   "metadata": {},
   "outputs": [],
   "source": [
    "df.to_csv(\"student_data_prepared.csv\", index=False)"
   ]
  }
 ],
 "metadata": {
  "kernelspec": {
   "display_name": "my_env (3.11.3)",
   "language": "python",
   "name": "python3"
  },
  "language_info": {
   "codemirror_mode": {
    "name": "ipython",
    "version": 3
   },
   "file_extension": ".py",
   "mimetype": "text/x-python",
   "name": "python",
   "nbconvert_exporter": "python",
   "pygments_lexer": "ipython3",
   "version": "3.11.3"
  }
 },
 "nbformat": 4,
 "nbformat_minor": 5
}
