{
 "cells": [
  {
   "cell_type": "markdown",
   "id": "74c8ec15",
   "metadata": {},
   "source": [
    "# 01 - Data Preparation and Cleaning\n",
    "\n",
    "This notebook handles:\n",
    "- Data loading and validation\n",
    "- Schema checking and data types\n",
    "- Missing values assessment and handling\n",
    "- Outlier detection and treatment\n",
    "- Data Quality Report generation"
   ]
  },
  {
   "cell_type": "code",
   "execution_count": 56,
   "id": "d4dd3899",
   "metadata": {},
   "outputs": [],
   "source": [
    "import pandas as pd\n",
    "import numpy as np\n",
    "import matplotlib.pyplot as plt\n",
    "import seaborn as sns"
   ]
  },
  {
   "cell_type": "code",
   "execution_count": null,
   "id": "6d186201",
   "metadata": {},
   "outputs": [
    {
     "name": "stdout",
     "output_type": "stream",
     "text": [
      "Merged students: 382\n",
      "Total dataset shape: (1044, 33)\n"
     ]
    },
    {
     "data": {
      "application/vnd.microsoft.datawrangler.viewer.v0+json": {
       "columns": [
        {
         "name": "index",
         "rawType": "int64",
         "type": "integer"
        },
        {
         "name": "school",
         "rawType": "object",
         "type": "string"
        },
        {
         "name": "sex",
         "rawType": "object",
         "type": "string"
        },
        {
         "name": "age",
         "rawType": "int64",
         "type": "integer"
        },
        {
         "name": "address",
         "rawType": "object",
         "type": "string"
        },
        {
         "name": "famsize",
         "rawType": "object",
         "type": "string"
        },
        {
         "name": "Pstatus",
         "rawType": "object",
         "type": "string"
        },
        {
         "name": "Medu",
         "rawType": "int64",
         "type": "integer"
        },
        {
         "name": "Fedu",
         "rawType": "int64",
         "type": "integer"
        },
        {
         "name": "Mjob",
         "rawType": "object",
         "type": "string"
        },
        {
         "name": "Fjob",
         "rawType": "object",
         "type": "string"
        },
        {
         "name": "reason",
         "rawType": "object",
         "type": "string"
        },
        {
         "name": "guardian",
         "rawType": "object",
         "type": "string"
        },
        {
         "name": "traveltime",
         "rawType": "int64",
         "type": "integer"
        },
        {
         "name": "studytime",
         "rawType": "int64",
         "type": "integer"
        },
        {
         "name": "failures",
         "rawType": "int64",
         "type": "integer"
        },
        {
         "name": "schoolsup",
         "rawType": "object",
         "type": "string"
        },
        {
         "name": "famsup",
         "rawType": "object",
         "type": "string"
        },
        {
         "name": "paid",
         "rawType": "object",
         "type": "string"
        },
        {
         "name": "activities",
         "rawType": "object",
         "type": "string"
        },
        {
         "name": "nursery",
         "rawType": "object",
         "type": "string"
        },
        {
         "name": "higher",
         "rawType": "object",
         "type": "string"
        },
        {
         "name": "internet",
         "rawType": "object",
         "type": "string"
        },
        {
         "name": "romantic",
         "rawType": "object",
         "type": "string"
        },
        {
         "name": "famrel",
         "rawType": "int64",
         "type": "integer"
        },
        {
         "name": "freetime",
         "rawType": "int64",
         "type": "integer"
        },
        {
         "name": "goout",
         "rawType": "int64",
         "type": "integer"
        },
        {
         "name": "Dalc",
         "rawType": "int64",
         "type": "integer"
        },
        {
         "name": "Walc",
         "rawType": "int64",
         "type": "integer"
        },
        {
         "name": "health",
         "rawType": "int64",
         "type": "integer"
        },
        {
         "name": "absences",
         "rawType": "int64",
         "type": "integer"
        },
        {
         "name": "G1",
         "rawType": "int64",
         "type": "integer"
        },
        {
         "name": "G2",
         "rawType": "int64",
         "type": "integer"
        },
        {
         "name": "G3",
         "rawType": "int64",
         "type": "integer"
        }
       ],
       "ref": "5a6a56a9-af6f-43c1-8f36-5bc05dabaed5",
       "rows": [
        [
         "0",
         "GP",
         "F",
         "18",
         "U",
         "GT3",
         "A",
         "4",
         "4",
         "at_home",
         "teacher",
         "course",
         "mother",
         "2",
         "2",
         "0",
         "yes",
         "no",
         "no",
         "no",
         "yes",
         "yes",
         "no",
         "no",
         "4",
         "3",
         "4",
         "1",
         "1",
         "3",
         "6",
         "5",
         "6",
         "6"
        ],
        [
         "1",
         "GP",
         "F",
         "17",
         "U",
         "GT3",
         "T",
         "1",
         "1",
         "at_home",
         "other",
         "course",
         "father",
         "1",
         "2",
         "0",
         "no",
         "yes",
         "no",
         "no",
         "no",
         "yes",
         "yes",
         "no",
         "5",
         "3",
         "3",
         "1",
         "1",
         "3",
         "4",
         "5",
         "5",
         "6"
        ],
        [
         "2",
         "GP",
         "F",
         "15",
         "U",
         "LE3",
         "T",
         "1",
         "1",
         "at_home",
         "other",
         "other",
         "mother",
         "1",
         "2",
         "3",
         "yes",
         "no",
         "yes",
         "no",
         "yes",
         "yes",
         "yes",
         "no",
         "4",
         "3",
         "2",
         "2",
         "3",
         "3",
         "10",
         "7",
         "8",
         "10"
        ],
        [
         "3",
         "GP",
         "F",
         "15",
         "U",
         "GT3",
         "T",
         "4",
         "2",
         "health",
         "services",
         "home",
         "mother",
         "1",
         "3",
         "0",
         "no",
         "yes",
         "yes",
         "yes",
         "yes",
         "yes",
         "yes",
         "yes",
         "3",
         "2",
         "2",
         "1",
         "1",
         "5",
         "2",
         "15",
         "14",
         "15"
        ],
        [
         "4",
         "GP",
         "F",
         "16",
         "U",
         "GT3",
         "T",
         "3",
         "3",
         "other",
         "other",
         "home",
         "father",
         "1",
         "2",
         "0",
         "no",
         "yes",
         "yes",
         "no",
         "yes",
         "yes",
         "no",
         "no",
         "4",
         "3",
         "2",
         "1",
         "2",
         "5",
         "4",
         "6",
         "10",
         "10"
        ]
       ],
       "shape": {
        "columns": 33,
        "rows": 5
       }
      },
      "text/html": [
       "<div>\n",
       "<style scoped>\n",
       "    .dataframe tbody tr th:only-of-type {\n",
       "        vertical-align: middle;\n",
       "    }\n",
       "\n",
       "    .dataframe tbody tr th {\n",
       "        vertical-align: top;\n",
       "    }\n",
       "\n",
       "    .dataframe thead th {\n",
       "        text-align: right;\n",
       "    }\n",
       "</style>\n",
       "<table border=\"1\" class=\"dataframe\">\n",
       "  <thead>\n",
       "    <tr style=\"text-align: right;\">\n",
       "      <th></th>\n",
       "      <th>school</th>\n",
       "      <th>sex</th>\n",
       "      <th>age</th>\n",
       "      <th>address</th>\n",
       "      <th>famsize</th>\n",
       "      <th>Pstatus</th>\n",
       "      <th>Medu</th>\n",
       "      <th>Fedu</th>\n",
       "      <th>Mjob</th>\n",
       "      <th>Fjob</th>\n",
       "      <th>...</th>\n",
       "      <th>famrel</th>\n",
       "      <th>freetime</th>\n",
       "      <th>goout</th>\n",
       "      <th>Dalc</th>\n",
       "      <th>Walc</th>\n",
       "      <th>health</th>\n",
       "      <th>absences</th>\n",
       "      <th>G1</th>\n",
       "      <th>G2</th>\n",
       "      <th>G3</th>\n",
       "    </tr>\n",
       "  </thead>\n",
       "  <tbody>\n",
       "    <tr>\n",
       "      <th>0</th>\n",
       "      <td>GP</td>\n",
       "      <td>F</td>\n",
       "      <td>18</td>\n",
       "      <td>U</td>\n",
       "      <td>GT3</td>\n",
       "      <td>A</td>\n",
       "      <td>4</td>\n",
       "      <td>4</td>\n",
       "      <td>at_home</td>\n",
       "      <td>teacher</td>\n",
       "      <td>...</td>\n",
       "      <td>4</td>\n",
       "      <td>3</td>\n",
       "      <td>4</td>\n",
       "      <td>1</td>\n",
       "      <td>1</td>\n",
       "      <td>3</td>\n",
       "      <td>6</td>\n",
       "      <td>5</td>\n",
       "      <td>6</td>\n",
       "      <td>6</td>\n",
       "    </tr>\n",
       "    <tr>\n",
       "      <th>1</th>\n",
       "      <td>GP</td>\n",
       "      <td>F</td>\n",
       "      <td>17</td>\n",
       "      <td>U</td>\n",
       "      <td>GT3</td>\n",
       "      <td>T</td>\n",
       "      <td>1</td>\n",
       "      <td>1</td>\n",
       "      <td>at_home</td>\n",
       "      <td>other</td>\n",
       "      <td>...</td>\n",
       "      <td>5</td>\n",
       "      <td>3</td>\n",
       "      <td>3</td>\n",
       "      <td>1</td>\n",
       "      <td>1</td>\n",
       "      <td>3</td>\n",
       "      <td>4</td>\n",
       "      <td>5</td>\n",
       "      <td>5</td>\n",
       "      <td>6</td>\n",
       "    </tr>\n",
       "    <tr>\n",
       "      <th>2</th>\n",
       "      <td>GP</td>\n",
       "      <td>F</td>\n",
       "      <td>15</td>\n",
       "      <td>U</td>\n",
       "      <td>LE3</td>\n",
       "      <td>T</td>\n",
       "      <td>1</td>\n",
       "      <td>1</td>\n",
       "      <td>at_home</td>\n",
       "      <td>other</td>\n",
       "      <td>...</td>\n",
       "      <td>4</td>\n",
       "      <td>3</td>\n",
       "      <td>2</td>\n",
       "      <td>2</td>\n",
       "      <td>3</td>\n",
       "      <td>3</td>\n",
       "      <td>10</td>\n",
       "      <td>7</td>\n",
       "      <td>8</td>\n",
       "      <td>10</td>\n",
       "    </tr>\n",
       "    <tr>\n",
       "      <th>3</th>\n",
       "      <td>GP</td>\n",
       "      <td>F</td>\n",
       "      <td>15</td>\n",
       "      <td>U</td>\n",
       "      <td>GT3</td>\n",
       "      <td>T</td>\n",
       "      <td>4</td>\n",
       "      <td>2</td>\n",
       "      <td>health</td>\n",
       "      <td>services</td>\n",
       "      <td>...</td>\n",
       "      <td>3</td>\n",
       "      <td>2</td>\n",
       "      <td>2</td>\n",
       "      <td>1</td>\n",
       "      <td>1</td>\n",
       "      <td>5</td>\n",
       "      <td>2</td>\n",
       "      <td>15</td>\n",
       "      <td>14</td>\n",
       "      <td>15</td>\n",
       "    </tr>\n",
       "    <tr>\n",
       "      <th>4</th>\n",
       "      <td>GP</td>\n",
       "      <td>F</td>\n",
       "      <td>16</td>\n",
       "      <td>U</td>\n",
       "      <td>GT3</td>\n",
       "      <td>T</td>\n",
       "      <td>3</td>\n",
       "      <td>3</td>\n",
       "      <td>other</td>\n",
       "      <td>other</td>\n",
       "      <td>...</td>\n",
       "      <td>4</td>\n",
       "      <td>3</td>\n",
       "      <td>2</td>\n",
       "      <td>1</td>\n",
       "      <td>2</td>\n",
       "      <td>5</td>\n",
       "      <td>4</td>\n",
       "      <td>6</td>\n",
       "      <td>10</td>\n",
       "      <td>10</td>\n",
       "    </tr>\n",
       "  </tbody>\n",
       "</table>\n",
       "<p>5 rows × 33 columns</p>\n",
       "</div>"
      ],
      "text/plain": [
       "  school sex  age address famsize Pstatus  Medu  Fedu     Mjob      Fjob  ...  \\\n",
       "0     GP   F   18       U     GT3       A     4     4  at_home   teacher  ...   \n",
       "1     GP   F   17       U     GT3       T     1     1  at_home     other  ...   \n",
       "2     GP   F   15       U     LE3       T     1     1  at_home     other  ...   \n",
       "3     GP   F   15       U     GT3       T     4     2   health  services  ...   \n",
       "4     GP   F   16       U     GT3       T     3     3    other     other  ...   \n",
       "\n",
       "  famrel freetime  goout  Dalc  Walc health absences  G1  G2  G3  \n",
       "0      4        3      4     1     1      3        6   5   6   6  \n",
       "1      5        3      3     1     1      3        4   5   5   6  \n",
       "2      4        3      2     2     3      3       10   7   8  10  \n",
       "3      3        2      2     1     1      5        2  15  14  15  \n",
       "4      4        3      2     1     2      5        4   6  10  10  \n",
       "\n",
       "[5 rows x 33 columns]"
      ]
     },
     "execution_count": 74,
     "metadata": {},
     "output_type": "execute_result"
    }
   ],
   "source": [
    "# Load datasets exactly like the R documentation\n",
    "d1 = pd.read_csv(r\"../data/raw/student-mat.csv\", sep=\";\")\n",
    "d2 = pd.read_csv(r\"../data/raw/student-por.csv\", sep=\";\")\n",
    "\n",
    "# Merge on demographic variables (same as R code)\n",
    "merge_keys = [\n",
    "    \"school\",\n",
    "    \"sex\",\n",
    "    \"age\",\n",
    "    \"address\",\n",
    "    \"famsize\",\n",
    "    \"Pstatus\",\n",
    "    \"Medu\",\n",
    "    \"Fedu\",\n",
    "    \"Mjob\",\n",
    "    \"Fjob\",\n",
    "    \"reason\",\n",
    "    \"nursery\",\n",
    "    \"internet\",\n",
    "]\n",
    "\n",
    "d3 = pd.merge(d1, d2, on=merge_keys, how=\"inner\", suffixes=(\"_math\", \"_por\"))\n",
    "print(f\"Merged students: {len(d3)}\")  # Should be 382 like R code\n",
    "\n",
    "# For analysis, use concatenated data (each student appears once per subject)\n",
    "df = pd.concat([d1, d2], axis=0, ignore_index=True)\n",
    "print(f\"Total dataset shape: {df.shape}\")\n",
    "df.head()"
   ]
  },
  {
   "cell_type": "code",
   "execution_count": 58,
   "id": "2b05bdcd",
   "metadata": {},
   "outputs": [
    {
     "name": "stdout",
     "output_type": "stream",
     "text": [
      "<class 'pandas.core.frame.DataFrame'>\n",
      "RangeIndex: 1044 entries, 0 to 1043\n",
      "Data columns (total 33 columns):\n",
      " #   Column      Non-Null Count  Dtype \n",
      "---  ------      --------------  ----- \n",
      " 0   school      1044 non-null   object\n",
      " 1   sex         1044 non-null   object\n",
      " 2   age         1044 non-null   int64 \n",
      " 3   address     1044 non-null   object\n",
      " 4   famsize     1044 non-null   object\n",
      " 5   Pstatus     1044 non-null   object\n",
      " 6   Medu        1044 non-null   int64 \n",
      " 7   Fedu        1044 non-null   int64 \n",
      " 8   Mjob        1044 non-null   object\n",
      " 9   Fjob        1044 non-null   object\n",
      " 10  reason      1044 non-null   object\n",
      " 11  guardian    1044 non-null   object\n",
      " 12  traveltime  1044 non-null   int64 \n",
      " 13  studytime   1044 non-null   int64 \n",
      " 14  failures    1044 non-null   int64 \n",
      " 15  schoolsup   1044 non-null   object\n",
      " 16  famsup      1044 non-null   object\n",
      " 17  paid        1044 non-null   object\n",
      " 18  activities  1044 non-null   object\n",
      " 19  nursery     1044 non-null   object\n",
      " 20  higher      1044 non-null   object\n",
      " 21  internet    1044 non-null   object\n",
      " 22  romantic    1044 non-null   object\n",
      " 23  famrel      1044 non-null   int64 \n",
      " 24  freetime    1044 non-null   int64 \n",
      " 25  goout       1044 non-null   int64 \n",
      " 26  Dalc        1044 non-null   int64 \n",
      " 27  Walc        1044 non-null   int64 \n",
      " 28  health      1044 non-null   int64 \n",
      " 29  absences    1044 non-null   int64 \n",
      " 30  G1          1044 non-null   int64 \n",
      " 31  G2          1044 non-null   int64 \n",
      " 32  G3          1044 non-null   int64 \n",
      "dtypes: int64(16), object(17)\n",
      "memory usage: 269.3+ KB\n"
     ]
    }
   ],
   "source": [
    "df.info()"
   ]
  },
  {
   "cell_type": "code",
   "execution_count": 59,
   "id": "a1008841",
   "metadata": {},
   "outputs": [
    {
     "name": "stdout",
     "output_type": "stream",
     "text": [
      "school        object\n",
      "sex           object\n",
      "age            int64\n",
      "address       object\n",
      "famsize       object\n",
      "Pstatus       object\n",
      "Medu           int64\n",
      "Fedu           int64\n",
      "Mjob          object\n",
      "Fjob          object\n",
      "reason        object\n",
      "guardian      object\n",
      "traveltime     int64\n",
      "studytime      int64\n",
      "failures       int64\n",
      "schoolsup     object\n",
      "famsup        object\n",
      "paid          object\n",
      "activities    object\n",
      "nursery       object\n",
      "higher        object\n",
      "internet      object\n",
      "romantic      object\n",
      "famrel         int64\n",
      "freetime       int64\n",
      "goout          int64\n",
      "Dalc           int64\n",
      "Walc           int64\n",
      "health         int64\n",
      "absences       int64\n",
      "G1             int64\n",
      "G2             int64\n",
      "G3             int64\n",
      "dtype: object\n"
     ]
    }
   ],
   "source": [
    "print(df.dtypes)"
   ]
  },
  {
   "cell_type": "code",
   "execution_count": 60,
   "id": "96325d90",
   "metadata": {},
   "outputs": [
    {
     "name": "stdout",
     "output_type": "stream",
     "text": [
      "=== DATA TYPES AFTER CONVERSION ===\n",
      "school        category\n",
      "sex           category\n",
      "age              int64\n",
      "address       category\n",
      "famsize       category\n",
      "Pstatus       category\n",
      "Medu          category\n",
      "Fedu          category\n",
      "Mjob          category\n",
      "Fjob          category\n",
      "reason        category\n",
      "guardian      category\n",
      "traveltime    category\n",
      "studytime     category\n",
      "failures         int64\n",
      "schoolsup         bool\n",
      "famsup            bool\n",
      "paid              bool\n",
      "activities        bool\n",
      "nursery           bool\n",
      "higher            bool\n",
      "internet          bool\n",
      "romantic          bool\n",
      "famrel        category\n",
      "freetime      category\n",
      "goout         category\n",
      "Dalc          category\n",
      "Walc          category\n",
      "health        category\n",
      "absences         int64\n",
      "G1               int64\n",
      "G2               int64\n",
      "G3               int64\n",
      "dtype: object\n"
     ]
    }
   ],
   "source": [
    "# Student Dataset Variable Type Conversions\n",
    "\n",
    "# KEEP AS NUMERIC (continuous/count variables)\n",
    "# These should stay as int64/float64\n",
    "numeric_vars = [\n",
    "    \"age\",  # Continuous: 15-22 years\n",
    "    \"failures\",  # Count: 0-4 failures\n",
    "    \"absences\",  # Count: 0-93 absences\n",
    "    \"G1\",\n",
    "    \"G2\",\n",
    "    \"G3\",  # Continuous: 0-20 grade scale\n",
    "]\n",
    "\n",
    "# CONVERT TO ORDERED CATEGORICAL (ordinal scales)\n",
    "# These have meaningful order/ranking\n",
    "\n",
    "# Education levels (0=none, 1=primary, 2=5th-9th, 3=secondary, 4=higher)\n",
    "df[\"Medu\"] = pd.Categorical(df[\"Medu\"], categories=[0, 1, 2, 3, 4], ordered=True)\n",
    "df[\"Fedu\"] = pd.Categorical(df[\"Fedu\"], categories=[0, 1, 2, 3, 4], ordered=True)\n",
    "\n",
    "# Time/frequency scales\n",
    "df[\"traveltime\"] = pd.Categorical(\n",
    "    df[\"traveltime\"], categories=[1, 2, 3, 4], ordered=True\n",
    ")  # <15min to >1hour\n",
    "df[\"studytime\"] = pd.Categorical(\n",
    "    df[\"studytime\"], categories=[1, 2, 3, 4], ordered=True\n",
    ")  # <2h to >10h\n",
    "\n",
    "# Quality/quantity scales (1=very low/bad to 5=very high/good)\n",
    "df[\"famrel\"] = pd.Categorical(df[\"famrel\"], categories=[1, 2, 3, 4, 5], ordered=True)\n",
    "df[\"freetime\"] = pd.Categorical(\n",
    "    df[\"freetime\"], categories=[1, 2, 3, 4, 5], ordered=True\n",
    ")\n",
    "df[\"goout\"] = pd.Categorical(df[\"goout\"], categories=[1, 2, 3, 4, 5], ordered=True)\n",
    "df[\"Dalc\"] = pd.Categorical(df[\"Dalc\"], categories=[1, 2, 3, 4, 5], ordered=True)\n",
    "df[\"Walc\"] = pd.Categorical(df[\"Walc\"], categories=[1, 2, 3, 4, 5], ordered=True)\n",
    "df[\"health\"] = pd.Categorical(df[\"health\"], categories=[1, 2, 3, 4, 5], ordered=True)\n",
    "\n",
    "# CONVERT TO REGULAR CATEGORICAL (nominal - no meaningful order)\n",
    "nominal_vars = [\n",
    "    \"sex\",\n",
    "    \"school\",  # GP or MS\n",
    "    \"address\",  # U or R\n",
    "    \"famsize\",  # LE3 or GT3\n",
    "    \"Pstatus\",  # T or A\n",
    "    \"Mjob\",  # teacher, health, services, at_home, other\n",
    "    \"Fjob\",  # teacher, health, services, at_home, other\n",
    "    \"guardian\",  # mother, father, other\n",
    "    \"reason\",  # home, reputation, course, other\n",
    "]\n",
    "\n",
    "for var in nominal_vars:\n",
    "    df[var] = df[var].astype(\"category\")\n",
    "\n",
    "# CONVERT TO BOOLEAN (binary yes/no variables)\n",
    "binary_vars = [\n",
    "    \"schoolsup\",\n",
    "    \"famsup\",\n",
    "    \"paid\",\n",
    "    \"activities\",\n",
    "    \"nursery\",\n",
    "    \"higher\",\n",
    "    \"internet\",\n",
    "    \"romantic\",\n",
    "]\n",
    "\n",
    "for var in binary_vars:\n",
    "    # Convert 'yes'/'no' strings to boolean\n",
    "    df[var] = df[var] == \"yes\"\n",
    "\n",
    "# VERIFY CONVERSIONS\n",
    "print(\"=== DATA TYPES AFTER CONVERSION ===\")\n",
    "print(df.dtypes)"
   ]
  },
  {
   "cell_type": "code",
   "execution_count": 61,
   "id": "159e9c15",
   "metadata": {},
   "outputs": [
    {
     "data": {
      "application/vnd.microsoft.datawrangler.viewer.v0+json": {
       "columns": [
        {
         "name": "index",
         "rawType": "object",
         "type": "string"
        },
        {
         "name": "0",
         "rawType": "int64",
         "type": "integer"
        }
       ],
       "ref": "fca64438-531c-4d68-957c-b0256deeebf9",
       "rows": [
        [
         "school",
         "0"
        ],
        [
         "sex",
         "0"
        ],
        [
         "age",
         "0"
        ],
        [
         "address",
         "0"
        ],
        [
         "famsize",
         "0"
        ],
        [
         "Pstatus",
         "0"
        ],
        [
         "Medu",
         "0"
        ],
        [
         "Fedu",
         "0"
        ],
        [
         "Mjob",
         "0"
        ],
        [
         "Fjob",
         "0"
        ],
        [
         "reason",
         "0"
        ],
        [
         "guardian",
         "0"
        ],
        [
         "traveltime",
         "0"
        ],
        [
         "studytime",
         "0"
        ],
        [
         "failures",
         "0"
        ],
        [
         "schoolsup",
         "0"
        ],
        [
         "famsup",
         "0"
        ],
        [
         "paid",
         "0"
        ],
        [
         "activities",
         "0"
        ],
        [
         "nursery",
         "0"
        ],
        [
         "higher",
         "0"
        ],
        [
         "internet",
         "0"
        ],
        [
         "romantic",
         "0"
        ],
        [
         "famrel",
         "0"
        ],
        [
         "freetime",
         "0"
        ],
        [
         "goout",
         "0"
        ],
        [
         "Dalc",
         "0"
        ],
        [
         "Walc",
         "0"
        ],
        [
         "health",
         "0"
        ],
        [
         "absences",
         "0"
        ],
        [
         "G1",
         "0"
        ],
        [
         "G2",
         "0"
        ],
        [
         "G3",
         "0"
        ]
       ],
       "shape": {
        "columns": 1,
        "rows": 33
       }
      },
      "text/plain": [
       "school        0\n",
       "sex           0\n",
       "age           0\n",
       "address       0\n",
       "famsize       0\n",
       "Pstatus       0\n",
       "Medu          0\n",
       "Fedu          0\n",
       "Mjob          0\n",
       "Fjob          0\n",
       "reason        0\n",
       "guardian      0\n",
       "traveltime    0\n",
       "studytime     0\n",
       "failures      0\n",
       "schoolsup     0\n",
       "famsup        0\n",
       "paid          0\n",
       "activities    0\n",
       "nursery       0\n",
       "higher        0\n",
       "internet      0\n",
       "romantic      0\n",
       "famrel        0\n",
       "freetime      0\n",
       "goout         0\n",
       "Dalc          0\n",
       "Walc          0\n",
       "health        0\n",
       "absences      0\n",
       "G1            0\n",
       "G2            0\n",
       "G3            0\n",
       "dtype: int64"
      ]
     },
     "execution_count": 61,
     "metadata": {},
     "output_type": "execute_result"
    }
   ],
   "source": [
    "df.isna().sum()"
   ]
  },
  {
   "cell_type": "code",
   "execution_count": 72,
   "id": "7c482826",
   "metadata": {},
   "outputs": [
    {
     "data": {
      "text/plain": [
       "np.int64(0)"
      ]
     },
     "execution_count": 72,
     "metadata": {},
     "output_type": "execute_result"
    }
   ],
   "source": [
    "df.duplicated().sum()"
   ]
  },
  {
   "cell_type": "markdown",
   "id": "44913f47",
   "metadata": {},
   "source": [
    "## 🔍 Categorical Variables Analysis\n",
    "\n",
    "**Critical**: Understanding ordinal vs nominal features affects validation, outlier detection, and later preprocessing choices."
   ]
  },
  {
   "cell_type": "code",
   "execution_count": 63,
   "id": "e846cbf7",
   "metadata": {},
   "outputs": [
    {
     "name": "stdout",
     "output_type": "stream",
     "text": [
      "🔢 Ordinal Features (with meaningful order):\n",
      "  Medu: [0, 1, 2, 3, 4]\n",
      "  Fedu: [0, 1, 2, 3, 4]\n",
      "  traveltime: [1, 2, 3, 4]\n",
      "  studytime: [1, 2, 3, 4]\n",
      "  failures: [0, 1, 2, 3, 4]\n",
      "  famrel: [1, 2, 3, 4, 5]\n",
      "  freetime: [1, 2, 3, 4, 5]\n",
      "  goout: [1, 2, 3, 4, 5]\n",
      "  Dalc: [1, 2, 3, 4, 5]\n",
      "  Walc: [1, 2, 3, 4, 5]\n",
      "  health: [1, 2, 3, 4, 5]\n",
      "\n",
      "📝 Nominal Features (no meaningful order): 17\n",
      "  ['school', 'sex', 'address', 'famsize', 'Pstatus', 'Mjob', 'Fjob', 'reason', 'guardian', 'schoolsup', 'famsup', 'paid', 'activities', 'nursery', 'higher', 'internet', 'romantic']\n"
     ]
    }
   ],
   "source": [
    "# Define feature types based on domain knowledge\n",
    "ordinal_features = {\n",
    "    \"Medu\": [0, 1, 2, 3, 4],  # Mother's education (none to higher)\n",
    "    \"Fedu\": [0, 1, 2, 3, 4],  # Father's education (none to higher)\n",
    "    \"traveltime\": [1, 2, 3, 4],  # Travel time (<15min to >1hour)\n",
    "    \"studytime\": [1, 2, 3, 4],  # Study time (<2h to >10h)\n",
    "    \"failures\": [0, 1, 2, 3, 4],  # Number of failures (0 to 3+)\n",
    "    \"famrel\": [1, 2, 3, 4, 5],  # Family relationship (very bad to excellent)\n",
    "    \"freetime\": [1, 2, 3, 4, 5],  # Free time (very low to very high)\n",
    "    \"goout\": [1, 2, 3, 4, 5],  # Going out (very low to very high)\n",
    "    \"Dalc\": [1, 2, 3, 4, 5],  # Workday alcohol (very low to very high)\n",
    "    \"Walc\": [1, 2, 3, 4, 5],  # Weekend alcohol (very low to very high)\n",
    "    \"health\": [1, 2, 3, 4, 5],  # Health status (very bad to very good)\n",
    "}\n",
    "\n",
    "nominal_features = [\n",
    "    \"school\",\n",
    "    \"sex\",\n",
    "    \"address\",\n",
    "    \"famsize\",\n",
    "    \"Pstatus\",\n",
    "    \"Mjob\",\n",
    "    \"Fjob\",\n",
    "    \"reason\",\n",
    "    \"guardian\",\n",
    "    \"schoolsup\",\n",
    "    \"famsup\",\n",
    "    \"paid\",\n",
    "    \"activities\",\n",
    "    \"nursery\",\n",
    "    \"higher\",\n",
    "    \"internet\",\n",
    "    \"romantic\",\n",
    "]\n",
    "\n",
    "print(\"🔢 Ordinal Features (with meaningful order):\")\n",
    "for feature, values in ordinal_features.items():\n",
    "    print(f\"  {feature}: {values}\")\n",
    "\n",
    "print(f\"\\n📝 Nominal Features (no meaningful order): {len(nominal_features)}\")\n",
    "print(f\"  {nominal_features}\")"
   ]
  },
  {
   "cell_type": "code",
   "execution_count": 64,
   "id": "82b3a6e4",
   "metadata": {},
   "outputs": [
    {
     "name": "stdout",
     "output_type": "stream",
     "text": [
      "=== ORDINAL FEATURES VALIDATION ===\n",
      "\n",
      "Medu:\n",
      "  Expected: [0, 1, 2, 3, 4]\n",
      "  Actual: [0, 1, 2, 3, 4]\n",
      "\n",
      "Fedu:\n",
      "  Expected: [0, 1, 2, 3, 4]\n",
      "  Actual: [0, 1, 2, 3, 4]\n",
      "\n",
      "traveltime:\n",
      "  Expected: [1, 2, 3, 4]\n",
      "  Actual: [1, 2, 3, 4]\n",
      "\n",
      "studytime:\n",
      "  Expected: [1, 2, 3, 4]\n",
      "  Actual: [1, 2, 3, 4]\n",
      "\n",
      "failures:\n",
      "  Expected: [0, 1, 2, 3, 4]\n",
      "  Actual: [np.int64(0), np.int64(1), np.int64(2), np.int64(3)]\n",
      "  ℹ️  Missing levels: [4]\n",
      "\n",
      "famrel:\n",
      "  Expected: [1, 2, 3, 4, 5]\n",
      "  Actual: [1, 2, 3, 4, 5]\n",
      "\n",
      "freetime:\n",
      "  Expected: [1, 2, 3, 4, 5]\n",
      "  Actual: [1, 2, 3, 4, 5]\n",
      "\n",
      "goout:\n",
      "  Expected: [1, 2, 3, 4, 5]\n",
      "  Actual: [1, 2, 3, 4, 5]\n",
      "\n",
      "Dalc:\n",
      "  Expected: [1, 2, 3, 4, 5]\n",
      "  Actual: [1, 2, 3, 4, 5]\n",
      "\n",
      "Walc:\n",
      "  Expected: [1, 2, 3, 4, 5]\n",
      "  Actual: [1, 2, 3, 4, 5]\n",
      "\n",
      "health:\n",
      "  Expected: [1, 2, 3, 4, 5]\n",
      "  Actual: [1, 2, 3, 4, 5]\n",
      "\n",
      "🚨 Found issues in 1 ordinal features!\n"
     ]
    }
   ],
   "source": [
    "# ORDINAL-SPECIFIC VALIDATION\n",
    "print(\"=== ORDINAL FEATURES VALIDATION ===\")\n",
    "ordinal_issues = {}\n",
    "\n",
    "for feature, expected_values in ordinal_features.items():\n",
    "    if feature in df.columns:\n",
    "        actual_values = sorted(df[feature].unique())\n",
    "        expected_set = set(expected_values)\n",
    "        actual_set = set(actual_values)\n",
    "\n",
    "        # Check for unexpected values (potential data entry errors)\n",
    "        unexpected = actual_set - expected_set\n",
    "        missing_levels = expected_set - actual_set\n",
    "\n",
    "        if unexpected or missing_levels:\n",
    "            ordinal_issues[feature] = {\n",
    "                \"unexpected\": list(unexpected),\n",
    "                \"missing_levels\": list(missing_levels),\n",
    "                \"actual_range\": f\"{min(actual_values)} to {max(actual_values)}\",\n",
    "            }\n",
    "\n",
    "        print(f\"\\n{feature}:\")\n",
    "        print(f\"  Expected: {expected_values}\")\n",
    "        print(f\"  Actual: {actual_values}\")\n",
    "        if unexpected:\n",
    "            print(f\"  ⚠️  UNEXPECTED VALUES: {list(unexpected)}\")\n",
    "        if missing_levels:\n",
    "            print(f\"  ℹ️  Missing levels: {list(missing_levels)}\")\n",
    "\n",
    "if ordinal_issues:\n",
    "    print(f\"\\n🚨 Found issues in {len(ordinal_issues)} ordinal features!\")\n",
    "else:\n",
    "    print(f\"\\n✅ All ordinal features have valid value ranges\")"
   ]
  },
  {
   "cell_type": "markdown",
   "id": "587e9c66",
   "metadata": {},
   "source": [
    "### It is normal to not have students with 3 or more failed classes"
   ]
  },
  {
   "cell_type": "code",
   "execution_count": 65,
   "id": "a1674d54",
   "metadata": {},
   "outputs": [
    {
     "name": "stdout",
     "output_type": "stream",
     "text": [
      "\n",
      "=== NOMINAL FEATURES VALIDATION ===\n",
      "\n",
      "school: ['GP', 'MS']\n",
      "\n",
      "sex: ['F', 'M']\n",
      "\n",
      "address: ['R', 'U']\n",
      "\n",
      "famsize: ['GT3', 'LE3']\n",
      "\n",
      "Pstatus: ['A', 'T']\n",
      "\n",
      "Mjob: ['at_home', 'health', 'other', 'services', 'teacher']\n",
      "\n",
      "Fjob: ['at_home', 'health', 'other', 'services', 'teacher']\n",
      "\n",
      "reason: ['course', 'home', 'other', 'reputation']\n",
      "\n",
      "guardian: ['father', 'mother', 'other']\n",
      "\n",
      "schoolsup: [np.False_, np.True_]\n",
      "  ⚠️  UNEXPECTED: [np.False_, np.True_]\n",
      "\n",
      "famsup: [np.False_, np.True_]\n",
      "  ⚠️  UNEXPECTED: [np.False_, np.True_]\n",
      "\n",
      "paid: [np.False_, np.True_]\n",
      "  ⚠️  UNEXPECTED: [np.False_, np.True_]\n",
      "\n",
      "activities: [np.False_, np.True_]\n",
      "  ⚠️  UNEXPECTED: [np.False_, np.True_]\n",
      "\n",
      "nursery: [np.False_, np.True_]\n",
      "  ⚠️  UNEXPECTED: [np.False_, np.True_]\n",
      "\n",
      "higher: [np.False_, np.True_]\n",
      "  ⚠️  UNEXPECTED: [np.False_, np.True_]\n",
      "\n",
      "internet: [np.False_, np.True_]\n",
      "  ⚠️  UNEXPECTED: [np.False_, np.True_]\n",
      "\n",
      "romantic: [np.False_, np.True_]\n",
      "  ⚠️  UNEXPECTED: [np.False_, np.True_]\n",
      "\n",
      "🚨 Found potential typos/encoding issues in 8 nominal features!\n"
     ]
    }
   ],
   "source": [
    "# 🚨 NOMINAL-SPECIFIC VALIDATION\n",
    "print(\"\\n=== NOMINAL FEATURES VALIDATION ===\")\n",
    "\n",
    "# Expected values for nominal features (from dataset documentation)\n",
    "nominal_expected = {\n",
    "    \"school\": [\"GP\", \"MS\"],\n",
    "    \"sex\": [\"F\", \"M\"],\n",
    "    \"address\": [\"U\", \"R\"],\n",
    "    \"famsize\": [\"LE3\", \"GT3\"],\n",
    "    \"Pstatus\": [\"T\", \"A\"],\n",
    "    \"Mjob\": [\"teacher\", \"health\", \"services\", \"at_home\", \"other\"],\n",
    "    \"Fjob\": [\"teacher\", \"health\", \"services\", \"at_home\", \"other\"],\n",
    "    \"reason\": [\"home\", \"reputation\", \"course\", \"other\"],\n",
    "    \"guardian\": [\"mother\", \"father\", \"other\"],\n",
    "    \"schoolsup\": [\"yes\", \"no\"],\n",
    "    \"famsup\": [\"yes\", \"no\"],\n",
    "    \"paid\": [\"yes\", \"no\"],\n",
    "    \"activities\": [\"yes\", \"no\"],\n",
    "    \"nursery\": [\"yes\", \"no\"],\n",
    "    \"higher\": [\"yes\", \"no\"],\n",
    "    \"internet\": [\"yes\", \"no\"],\n",
    "    \"romantic\": [\"yes\", \"no\"],\n",
    "}\n",
    "\n",
    "nominal_issues = {}\n",
    "for feature in nominal_features:\n",
    "    if feature in df.columns:\n",
    "        actual_values = sorted(df[feature].unique())\n",
    "\n",
    "        # Check for potential typos/case issues\n",
    "        if feature in nominal_expected:\n",
    "            expected = set(nominal_expected[feature])\n",
    "            actual = set(actual_values)\n",
    "            unexpected = actual - expected\n",
    "\n",
    "            if unexpected:\n",
    "                nominal_issues[feature] = list(unexpected)\n",
    "\n",
    "        print(f\"\\n{feature}: {actual_values}\")\n",
    "        if feature in nominal_issues:\n",
    "            print(f\"  ⚠️  UNEXPECTED: {nominal_issues[feature]}\")\n",
    "\n",
    "if nominal_issues:\n",
    "    print(\n",
    "        f\"\\n🚨 Found potential typos/encoding issues in {len(nominal_issues)} nominal features!\"\n",
    "    )\n",
    "else:\n",
    "    print(f\"\\n✅ All nominal features have expected categories\")"
   ]
  },
  {
   "cell_type": "code",
   "execution_count": 66,
   "id": "8288abad",
   "metadata": {},
   "outputs": [
    {
     "data": {
      "image/png": "[encoded data removed]",
      "text/plain": [
       "<Figure size 1800x2000 with 6 Axes>"
      ]
     },
     "metadata": {},
     "output_type": "display_data"
    }
   ],
   "source": [
    "continuous_features = [\"age\", \"absences\", \"G1\", \"G2\", \"G3\"]\n",
    "\n",
    "plt.style.use(\"seaborn-v0_8-whitegrid\")\n",
    "\n",
    "fig, axs = plt.subplots(3, 2, figsize=(18, 20))\n",
    "\n",
    "# Main title for the figure\n",
    "fig.suptitle(\n",
    "    \"Distribution of Continuous Numerical Features\", fontsize=20, fontweight=\"bold\"\n",
    ")\n",
    "\n",
    "# Boxplot for TotalCharges\n",
    "sns.boxplot(data=df, y=continuous_features[0], ax=axs[0, 0], color=\"#0096c7\")\n",
    "axs[0, 0].set_title(\"Age\", fontsize=14)\n",
    "axs[0, 0].set_ylabel(\"Years\", fontsize=12)\n",
    "axs[0, 0].grid(True, which=\"both\", linewidth=0.5)\n",
    "\n",
    "\n",
    "# Boxplot for MonthlyCharges\n",
    "sns.boxplot(data=df, y=continuous_features[1], ax=axs[0, 1], color=\"#0096c7\")\n",
    "axs[0, 1].set_title(\"Absences\", fontsize=14)\n",
    "axs[0, 1].set_ylabel(\"Days\", fontsize=12)\n",
    "axs[0, 1].grid(True, which=\"both\", linewidth=0.5)\n",
    "\n",
    "sns.boxplot(data=df, y=continuous_features[2], ax=axs[1, 0], color=\"#0096c7\")\n",
    "axs[1, 0].set_title(\"G1\", fontsize=14)\n",
    "axs[1, 0].set_ylabel(\"Grades\", fontsize=12)\n",
    "axs[1, 0].grid(True, which=\"both\", linewidth=0.5)\n",
    "\n",
    "# Boxplot for G2\n",
    "sns.boxplot(data=df, y=continuous_features[3], ax=axs[1, 1], color=\"#0096c7\")\n",
    "axs[1, 1].set_title(\"G2\", fontsize=14)\n",
    "axs[1, 1].set_ylabel(\"Grades\", fontsize=12)\n",
    "axs[1, 1].grid(True, which=\"both\", linewidth=0.5)\n",
    "\n",
    "# Boxplot for G3\n",
    "sns.boxplot(data=df, y=continuous_features[4], ax=axs[2, 0], color=\"#0096c7\")\n",
    "axs[2, 0].set_title(\"G3\", fontsize=14)\n",
    "axs[2, 0].set_ylabel(\"Grades\", fontsize=12)\n",
    "axs[2, 0].grid(True, which=\"both\", linewidth=0.5)\n",
    "\n",
    "axs[2, 1].set_visible(False)\n",
    "\n",
    "plt.tight_layout(rect=[0, 0.03, 1, 0.95])\n",
    "\n",
    "plt.show()"
   ]
  },
  {
   "cell_type": "markdown",
   "id": "bfeb7a9a",
   "metadata": {},
   "source": [
    "## ✅ Outlier Treatment Decision\n",
    "\n",
    "**Keep all data points** - no removal needed:\n",
    "- **Age range 15-22**: Normal for secondary education, older students may be repeaters\n",
    "- **Absences 0-32**: Wide range but realistic (some students may have extended absences due to health/family issues)\n",
    "- **Grades (G1/G2/G3)**: Some students scored 0 (likely dropouts or severe academic difficulties) - valuable for at-risk analysis\n",
    "- **No data entry errors** found in any continuous variables\n",
    "- **\"Outliers\" represent valuable student populations**: at-risk students, adult learners, students with special circumstances\n",
    "- **Preserving real-world variation** is more valuable than statistical \"cleanliness\" for educational intervention insights"
   ]
  },
  {
   "cell_type": "markdown",
   "id": "07c69e48",
   "metadata": {},
   "source": [
    "## Feature engineering"
   ]
  },
  {
   "cell_type": "code",
   "execution_count": 67,
   "id": "94d3cbf8",
   "metadata": {},
   "outputs": [],
   "source": [
    "# Create a binary target variable: pass (1) if G3 >= 10, else fail (0)\n",
    "df[\"pass_fail\"] = (df[\"G3\"] >= 10).astype(int)"
   ]
  },
  {
   "cell_type": "code",
   "execution_count": 68,
   "id": "873b8af2",
   "metadata": {},
   "outputs": [
    {
     "name": "stdout",
     "output_type": "stream",
     "text": [
      "Attendance Proxy Feature Created:\n",
      "- Range: 0.0 to 100.0\n",
      "- Mean: 94.1\n",
      "- Students with perfect attendance (100): 359\n",
      "- Students with <50% attendance: 5\n"
     ]
    }
   ],
   "source": [
    "# Create attendance proxy from absences\n",
    "# High attendance = Low absences, Low attendance = High absences\n",
    "# Scale: 0 (worst attendance) to 100 (perfect attendance)\n",
    "max_absences = df[\"absences\"].max()\n",
    "df[\"attendance_proxy\"] = 100 * (1 - df[\"absences\"] / max_absences)\n",
    "\n",
    "print(f\"Attendance Proxy Feature Created:\")\n",
    "print(\n",
    "    f\"- Range: {df['attendance_proxy'].min():.1f} to {df['attendance_proxy'].max():.1f}\"\n",
    ")\n",
    "print(f\"- Mean: {df['attendance_proxy'].mean():.1f}\")\n",
    "print(\n",
    "    f\"- Students with perfect attendance (100): {(df['attendance_proxy'] == 100).sum()}\"\n",
    ")\n",
    "print(f\"- Students with <50% attendance: {(df['attendance_proxy'] < 50).sum()}\")"
   ]
  },
  {
   "cell_type": "code",
   "execution_count": 69,
   "id": "782db80d",
   "metadata": {},
   "outputs": [
    {
     "name": "stdout",
     "output_type": "stream",
     "text": [
      "\n",
      "Grade Average Feature Created:\n",
      "- Range: 1.33 to 19.33\n",
      "- Mean: 11.27\n",
      "- Standard deviation: 3.22\n",
      "\n",
      "Correlations with individual grades:\n",
      "- G1: 0.925\n",
      "- G2: 0.970\n",
      "- G3: 0.960\n"
     ]
    }
   ],
   "source": [
    "# Create average of G1-G3 for overall academic performance indicator\n",
    "df[\"grade_average\"] = (df[\"G1\"] + df[\"G2\"] + df[\"G3\"]) / 3\n",
    "\n",
    "print(f\"\\nGrade Average Feature Created:\")\n",
    "print(f\"- Range: {df['grade_average'].min():.2f} to {df['grade_average'].max():.2f}\")\n",
    "print(f\"- Mean: {df['grade_average'].mean():.2f}\")\n",
    "print(f\"- Standard deviation: {df['grade_average'].std():.2f}\")\n",
    "\n",
    "# Show relationship with individual grades\n",
    "print(f\"\\nCorrelations with individual grades:\")\n",
    "print(f\"- G1: {df['grade_average'].corr(df['G1']):.3f}\")\n",
    "print(f\"- G2: {df['grade_average'].corr(df['G2']):.3f}\")\n",
    "print(f\"- G3: {df['grade_average'].corr(df['G3']):.3f}\")"
   ]
  },
  {
   "cell_type": "markdown",
   "id": "2098b898",
   "metadata": {},
   "source": [
    "## Export dataset"
   ]
  },
  {
   "cell_type": "code",
   "execution_count": 70,
   "id": "e2f0dd04",
   "metadata": {},
   "outputs": [],
   "source": [
    "df.to_csv(\"student_data_prepared.csv\", index=False)"
   ]
  },
  {
   "cell_type": "code",
   "execution_count": 71,
   "id": "df5a9c5b",
   "metadata": {},
   "outputs": [],
   "source": [
    "df.to_pickle(\"cleaned_dataset.pkl\")"
   ]
  }
 ],
 "metadata": {
  "kernelspec": {
   "display_name": "my_env (3.11.3)",
   "language": "python",
   "name": "python3"
  },
  "language_info": {
   "codemirror_mode": {
    "name": "ipython",
    "version": 3
   },
   "file_extension": ".py",
   "mimetype": "text/x-python",
   "name": "python",
   "nbconvert_exporter": "python",
   "pygments_lexer": "ipython3",
   "version": "3.11.3"
  }
 },
 "nbformat": 4,
 "nbformat_minor": 5
}
